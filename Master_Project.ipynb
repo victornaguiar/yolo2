{
  "cells": [
    {
      "cell_type": "markdown",
      "metadata": {
        "id": "GJm_b_4vE5uK"
      },
      "source": [
        "# Environment Setup for Soccer Tracking Pipeline\n",
        "\n",
        "This notebook helps you set up the environment for running the soccer tracking pipeline on Google Colab with remote VM access via VS Code SSH."
      ]
    },
    {
      "cell_type": "markdown",
      "metadata": {
        "id": "8dURJtSYE5uO"
      },
      "source": [
        "## 1. Install Dependencies"
      ]
    },
    {
      "cell_type": "code",
      "execution_count": null,
      "metadata": {
        "id": "rtVmV1NwE5uR",
        "outputId": "6eb9d7b4-6c55-4088-93e3-5e31d71c826a",
        "colab": {
          "base_uri": "https://localhost:8080/"
        }
      },
      "outputs": [
        {
          "output_type": "stream",
          "name": "stdout",
          "text": [
            "Looking in indexes: https://pypi.org/simple, https://download.pytorch.org/whl/cu121\n",
            "Requirement already satisfied: torch in /usr/local/lib/python3.12/dist-packages (2.8.0+cu126)\n",
            "Requirement already satisfied: torchvision in /usr/local/lib/python3.12/dist-packages (0.23.0+cu126)\n",
            "Requirement already satisfied: filelock in /usr/local/lib/python3.12/dist-packages (from torch) (3.19.1)\n",
            "Requirement already satisfied: typing-extensions>=4.10.0 in /usr/local/lib/python3.12/dist-packages (from torch) (4.14.1)\n",
            "Requirement already satisfied: setuptools in /usr/local/lib/python3.12/dist-packages (from torch) (75.2.0)\n",
            "Requirement already satisfied: sympy>=1.13.3 in /usr/local/lib/python3.12/dist-packages (from torch) (1.13.3)\n",
            "Requirement already satisfied: networkx in /usr/local/lib/python3.12/dist-packages (from torch) (3.5)\n",
            "Requirement already satisfied: jinja2 in /usr/local/lib/python3.12/dist-packages (from torch) (3.1.6)\n",
            "Requirement already satisfied: fsspec in /usr/local/lib/python3.12/dist-packages (from torch) (2025.3.0)\n",
            "Requirement already satisfied: nvidia-cuda-nvrtc-cu12==12.6.77 in /usr/local/lib/python3.12/dist-packages (from torch) (12.6.77)\n",
            "Requirement already satisfied: nvidia-cuda-runtime-cu12==12.6.77 in /usr/local/lib/python3.12/dist-packages (from torch) (12.6.77)\n",
            "Requirement already satisfied: nvidia-cuda-cupti-cu12==12.6.80 in /usr/local/lib/python3.12/dist-packages (from torch) (12.6.80)\n",
            "Requirement already satisfied: nvidia-cudnn-cu12==9.10.2.21 in /usr/local/lib/python3.12/dist-packages (from torch) (9.10.2.21)\n",
            "Requirement already satisfied: nvidia-cublas-cu12==12.6.4.1 in /usr/local/lib/python3.12/dist-packages (from torch) (12.6.4.1)\n",
            "Requirement already satisfied: nvidia-cufft-cu12==11.3.0.4 in /usr/local/lib/python3.12/dist-packages (from torch) (11.3.0.4)\n",
            "Requirement already satisfied: nvidia-curand-cu12==10.3.7.77 in /usr/local/lib/python3.12/dist-packages (from torch) (10.3.7.77)\n",
            "Requirement already satisfied: nvidia-cusolver-cu12==11.7.1.2 in /usr/local/lib/python3.12/dist-packages (from torch) (11.7.1.2)\n",
            "Requirement already satisfied: nvidia-cusparse-cu12==12.5.4.2 in /usr/local/lib/python3.12/dist-packages (from torch) (12.5.4.2)\n",
            "Requirement already satisfied: nvidia-cusparselt-cu12==0.7.1 in /usr/local/lib/python3.12/dist-packages (from torch) (0.7.1)\n",
            "Requirement already satisfied: nvidia-nccl-cu12==2.27.3 in /usr/local/lib/python3.12/dist-packages (from torch) (2.27.3)\n",
            "Requirement already satisfied: nvidia-nvtx-cu12==12.6.77 in /usr/local/lib/python3.12/dist-packages (from torch) (12.6.77)\n",
            "Requirement already satisfied: nvidia-nvjitlink-cu12==12.6.85 in /usr/local/lib/python3.12/dist-packages (from torch) (12.6.85)\n",
            "Requirement already satisfied: nvidia-cufile-cu12==1.11.1.6 in /usr/local/lib/python3.12/dist-packages (from torch) (1.11.1.6)\n",
            "Requirement already satisfied: triton==3.4.0 in /usr/local/lib/python3.12/dist-packages (from torch) (3.4.0)\n",
            "Requirement already satisfied: numpy in /usr/local/lib/python3.12/dist-packages (from torchvision) (2.0.2)\n",
            "Requirement already satisfied: pillow!=8.3.*,>=5.3.0 in /usr/local/lib/python3.12/dist-packages (from torchvision) (11.3.0)\n",
            "Requirement already satisfied: mpmath<1.4,>=1.1.0 in /usr/local/lib/python3.12/dist-packages (from sympy>=1.13.3->torch) (1.3.0)\n",
            "Requirement already satisfied: MarkupSafe>=2.0 in /usr/local/lib/python3.12/dist-packages (from jinja2->torch) (3.0.2)\n"
          ]
        }
      ],
      "source": [
        "# Install PyTorch with CUDA support (automatically detects available CUDA version)\n",
        "!pip install torch torchvision --extra-index-url https://download.pytorch.org/whl/cu121"
      ]
    },
    {
      "cell_type": "code",
      "execution_count": null,
      "metadata": {
        "id": "F4wlPzIwE5uS",
        "outputId": "bacfa28b-ef1f-481b-cd90-d03117348401",
        "colab": {
          "base_uri": "https://localhost:8080/"
        }
      },
      "outputs": [
        {
          "output_type": "stream",
          "name": "stdout",
          "text": [
            "Collecting ultralytics\n",
            "  Downloading ultralytics-8.3.183-py3-none-any.whl.metadata (37 kB)\n",
            "Collecting boxmot\n",
            "  Downloading boxmot-15.0.2-py3-none-any.whl.metadata (13 kB)\n",
            "Requirement already satisfied: opencv-python in /usr/local/lib/python3.12/dist-packages (4.12.0.88)\n",
            "Requirement already satisfied: numpy in /usr/local/lib/python3.12/dist-packages (2.0.2)\n",
            "Requirement already satisfied: scipy in /usr/local/lib/python3.12/dist-packages (1.16.1)\n",
            "Requirement already satisfied: matplotlib>=3.3.0 in /usr/local/lib/python3.12/dist-packages (from ultralytics) (3.10.0)\n",
            "Requirement already satisfied: pillow>=7.1.2 in /usr/local/lib/python3.12/dist-packages (from ultralytics) (11.3.0)\n",
            "Requirement already satisfied: pyyaml>=5.3.1 in /usr/local/lib/python3.12/dist-packages (from ultralytics) (6.0.2)\n",
            "Requirement already satisfied: requests>=2.23.0 in /usr/local/lib/python3.12/dist-packages (from ultralytics) (2.32.4)\n",
            "Requirement already satisfied: torch>=1.8.0 in /usr/local/lib/python3.12/dist-packages (from ultralytics) (2.8.0+cu126)\n",
            "Requirement already satisfied: torchvision>=0.9.0 in /usr/local/lib/python3.12/dist-packages (from ultralytics) (0.23.0+cu126)\n",
            "Requirement already satisfied: tqdm>=4.64.0 in /usr/local/lib/python3.12/dist-packages (from ultralytics) (4.67.1)\n",
            "Requirement already satisfied: psutil in /usr/local/lib/python3.12/dist-packages (from ultralytics) (5.9.5)\n",
            "Requirement already satisfied: py-cpuinfo in /usr/local/lib/python3.12/dist-packages (from ultralytics) (9.0.0)\n",
            "Requirement already satisfied: pandas>=1.1.4 in /usr/local/lib/python3.12/dist-packages (from ultralytics) (2.2.2)\n",
            "Collecting ultralytics-thop>=2.0.0 (from ultralytics)\n",
            "  Downloading ultralytics_thop-2.0.16-py3-none-any.whl.metadata (14 kB)\n",
            "Collecting bayesian-optimization>=2.0.4 (from boxmot)\n",
            "  Downloading bayesian_optimization-3.1.0-py3-none-any.whl.metadata (11 kB)\n",
            "Requirement already satisfied: click>=8.1.8 in /usr/local/lib/python3.12/dist-packages (from boxmot) (8.2.1)\n",
            "Collecting filterpy<2.0.0,>=1.4.5 (from boxmot)\n",
            "  Downloading filterpy-1.4.5.zip (177 kB)\n",
            "\u001b[2K     \u001b[90m━━━━━━━━━━━━━━━━━━━━━━━━━━━━━━━━━━━━━━\u001b[0m \u001b[32m178.0/178.0 kB\u001b[0m \u001b[31m10.0 MB/s\u001b[0m eta \u001b[36m0:00:00\u001b[0m\n",
            "\u001b[?25h  Preparing metadata (setup.py) ... \u001b[?25l\u001b[?25hdone\n",
            "Collecting ftfy<7.0.0,>=6.1.3 (from boxmot)\n",
            "  Downloading ftfy-6.3.1-py3-none-any.whl.metadata (7.3 kB)\n",
            "Requirement already satisfied: gdown<6.0.0,>=5.1.0 in /usr/local/lib/python3.12/dist-packages (from boxmot) (5.2.0)\n",
            "Requirement already satisfied: gitpython<4.0.0,>=3.1.42 in /usr/local/lib/python3.12/dist-packages (from boxmot) (3.1.45)\n",
            "Collecting lapx<1.0.0,>=0.5.5 (from boxmot)\n",
            "  Downloading lapx-0.5.11.post1-cp312-cp312-manylinux_2_5_x86_64.manylinux1_x86_64.manylinux_2_17_x86_64.manylinux2014_x86_64.whl.metadata (6.3 kB)\n",
            "Collecting loguru<1.0.0,>=0.7.2 (from boxmot)\n",
            "  Downloading loguru-0.7.3-py3-none-any.whl.metadata (22 kB)\n",
            "Collecting mplcursors>=0.6 (from boxmot)\n",
            "  Downloading mplcursors-0.6-py3-none-any.whl.metadata (3.0 kB)\n",
            "Collecting pyqt5>=5.15.11 (from boxmot)\n",
            "  Downloading PyQt5-5.15.11-cp38-abi3-manylinux_2_17_x86_64.whl.metadata (2.1 kB)\n",
            "Requirement already satisfied: regex<2025.0.0,>=2024.0.0 in /usr/local/lib/python3.12/dist-packages (from boxmot) (2024.11.6)\n",
            "Requirement already satisfied: scikit-learn<2.0.0,>=1.3.0 in /usr/local/lib/python3.12/dist-packages (from boxmot) (1.6.1)\n",
            "Requirement already satisfied: setuptools in /usr/local/lib/python3.12/dist-packages (from boxmot) (75.2.0)\n",
            "Collecting yacs<1.0.0,>=0.1.8 (from boxmot)\n",
            "  Downloading yacs-0.1.8-py3-none-any.whl.metadata (639 bytes)\n",
            "Collecting colorama>=0.4.6 (from bayesian-optimization>=2.0.4->boxmot)\n",
            "  Downloading colorama-0.4.6-py2.py3-none-any.whl.metadata (17 kB)\n",
            "Requirement already satisfied: wcwidth in /usr/local/lib/python3.12/dist-packages (from ftfy<7.0.0,>=6.1.3->boxmot) (0.2.13)\n",
            "Requirement already satisfied: beautifulsoup4 in /usr/local/lib/python3.12/dist-packages (from gdown<6.0.0,>=5.1.0->boxmot) (4.13.4)\n",
            "Requirement already satisfied: filelock in /usr/local/lib/python3.12/dist-packages (from gdown<6.0.0,>=5.1.0->boxmot) (3.19.1)\n",
            "Requirement already satisfied: gitdb<5,>=4.0.1 in /usr/local/lib/python3.12/dist-packages (from gitpython<4.0.0,>=3.1.42->boxmot) (4.0.12)\n",
            "Requirement already satisfied: contourpy>=1.0.1 in /usr/local/lib/python3.12/dist-packages (from matplotlib>=3.3.0->ultralytics) (1.3.3)\n",
            "Requirement already satisfied: cycler>=0.10 in /usr/local/lib/python3.12/dist-packages (from matplotlib>=3.3.0->ultralytics) (0.12.1)\n",
            "Requirement already satisfied: fonttools>=4.22.0 in /usr/local/lib/python3.12/dist-packages (from matplotlib>=3.3.0->ultralytics) (4.59.1)\n",
            "Requirement already satisfied: kiwisolver>=1.3.1 in /usr/local/lib/python3.12/dist-packages (from matplotlib>=3.3.0->ultralytics) (1.4.9)\n",
            "Requirement already satisfied: packaging>=20.0 in /usr/local/lib/python3.12/dist-packages (from matplotlib>=3.3.0->ultralytics) (25.0)\n",
            "Requirement already satisfied: pyparsing>=2.3.1 in /usr/local/lib/python3.12/dist-packages (from matplotlib>=3.3.0->ultralytics) (3.2.3)\n",
            "Requirement already satisfied: python-dateutil>=2.7 in /usr/local/lib/python3.12/dist-packages (from matplotlib>=3.3.0->ultralytics) (2.9.0.post0)\n",
            "Requirement already satisfied: pytz>=2020.1 in /usr/local/lib/python3.12/dist-packages (from pandas>=1.1.4->ultralytics) (2025.2)\n",
            "Requirement already satisfied: tzdata>=2022.7 in /usr/local/lib/python3.12/dist-packages (from pandas>=1.1.4->ultralytics) (2025.2)\n",
            "Collecting PyQt5-sip<13,>=12.15 (from pyqt5>=5.15.11->boxmot)\n",
            "  Downloading PyQt5_sip-12.17.0-cp312-cp312-manylinux_2_5_x86_64.manylinux1_x86_64.whl.metadata (472 bytes)\n",
            "Collecting PyQt5-Qt5<5.16.0,>=5.15.2 (from pyqt5>=5.15.11->boxmot)\n",
            "  Downloading PyQt5_Qt5-5.15.17-py3-none-manylinux2014_x86_64.whl.metadata (536 bytes)\n",
            "Requirement already satisfied: charset_normalizer<4,>=2 in /usr/local/lib/python3.12/dist-packages (from requests>=2.23.0->ultralytics) (3.4.3)\n",
            "Requirement already satisfied: idna<4,>=2.5 in /usr/local/lib/python3.12/dist-packages (from requests>=2.23.0->ultralytics) (3.10)\n",
            "Requirement already satisfied: urllib3<3,>=1.21.1 in /usr/local/lib/python3.12/dist-packages (from requests>=2.23.0->ultralytics) (2.5.0)\n",
            "Requirement already satisfied: certifi>=2017.4.17 in /usr/local/lib/python3.12/dist-packages (from requests>=2.23.0->ultralytics) (2025.8.3)\n",
            "Requirement already satisfied: joblib>=1.2.0 in /usr/local/lib/python3.12/dist-packages (from scikit-learn<2.0.0,>=1.3.0->boxmot) (1.5.1)\n",
            "Requirement already satisfied: threadpoolctl>=3.1.0 in /usr/local/lib/python3.12/dist-packages (from scikit-learn<2.0.0,>=1.3.0->boxmot) (3.6.0)\n",
            "Requirement already satisfied: typing-extensions>=4.10.0 in /usr/local/lib/python3.12/dist-packages (from torch>=1.8.0->ultralytics) (4.14.1)\n",
            "Requirement already satisfied: sympy>=1.13.3 in /usr/local/lib/python3.12/dist-packages (from torch>=1.8.0->ultralytics) (1.13.3)\n",
            "Requirement already satisfied: networkx in /usr/local/lib/python3.12/dist-packages (from torch>=1.8.0->ultralytics) (3.5)\n",
            "Requirement already satisfied: jinja2 in /usr/local/lib/python3.12/dist-packages (from torch>=1.8.0->ultralytics) (3.1.6)\n",
            "Requirement already satisfied: fsspec in /usr/local/lib/python3.12/dist-packages (from torch>=1.8.0->ultralytics) (2025.3.0)\n",
            "Requirement already satisfied: nvidia-cuda-nvrtc-cu12==12.6.77 in /usr/local/lib/python3.12/dist-packages (from torch>=1.8.0->ultralytics) (12.6.77)\n",
            "Requirement already satisfied: nvidia-cuda-runtime-cu12==12.6.77 in /usr/local/lib/python3.12/dist-packages (from torch>=1.8.0->ultralytics) (12.6.77)\n",
            "Requirement already satisfied: nvidia-cuda-cupti-cu12==12.6.80 in /usr/local/lib/python3.12/dist-packages (from torch>=1.8.0->ultralytics) (12.6.80)\n",
            "Requirement already satisfied: nvidia-cudnn-cu12==9.10.2.21 in /usr/local/lib/python3.12/dist-packages (from torch>=1.8.0->ultralytics) (9.10.2.21)\n",
            "Requirement already satisfied: nvidia-cublas-cu12==12.6.4.1 in /usr/local/lib/python3.12/dist-packages (from torch>=1.8.0->ultralytics) (12.6.4.1)\n",
            "Requirement already satisfied: nvidia-cufft-cu12==11.3.0.4 in /usr/local/lib/python3.12/dist-packages (from torch>=1.8.0->ultralytics) (11.3.0.4)\n",
            "Requirement already satisfied: nvidia-curand-cu12==10.3.7.77 in /usr/local/lib/python3.12/dist-packages (from torch>=1.8.0->ultralytics) (10.3.7.77)\n",
            "Requirement already satisfied: nvidia-cusolver-cu12==11.7.1.2 in /usr/local/lib/python3.12/dist-packages (from torch>=1.8.0->ultralytics) (11.7.1.2)\n",
            "Requirement already satisfied: nvidia-cusparse-cu12==12.5.4.2 in /usr/local/lib/python3.12/dist-packages (from torch>=1.8.0->ultralytics) (12.5.4.2)\n",
            "Requirement already satisfied: nvidia-cusparselt-cu12==0.7.1 in /usr/local/lib/python3.12/dist-packages (from torch>=1.8.0->ultralytics) (0.7.1)\n",
            "Requirement already satisfied: nvidia-nccl-cu12==2.27.3 in /usr/local/lib/python3.12/dist-packages (from torch>=1.8.0->ultralytics) (2.27.3)\n",
            "Requirement already satisfied: nvidia-nvtx-cu12==12.6.77 in /usr/local/lib/python3.12/dist-packages (from torch>=1.8.0->ultralytics) (12.6.77)\n",
            "Requirement already satisfied: nvidia-nvjitlink-cu12==12.6.85 in /usr/local/lib/python3.12/dist-packages (from torch>=1.8.0->ultralytics) (12.6.85)\n",
            "Requirement already satisfied: nvidia-cufile-cu12==1.11.1.6 in /usr/local/lib/python3.12/dist-packages (from torch>=1.8.0->ultralytics) (1.11.1.6)\n",
            "Requirement already satisfied: triton==3.4.0 in /usr/local/lib/python3.12/dist-packages (from torch>=1.8.0->ultralytics) (3.4.0)\n",
            "Requirement already satisfied: smmap<6,>=3.0.1 in /usr/local/lib/python3.12/dist-packages (from gitdb<5,>=4.0.1->gitpython<4.0.0,>=3.1.42->boxmot) (5.0.2)\n",
            "Requirement already satisfied: six>=1.5 in /usr/local/lib/python3.12/dist-packages (from python-dateutil>=2.7->matplotlib>=3.3.0->ultralytics) (1.17.0)\n",
            "Requirement already satisfied: mpmath<1.4,>=1.1.0 in /usr/local/lib/python3.12/dist-packages (from sympy>=1.13.3->torch>=1.8.0->ultralytics) (1.3.0)\n",
            "Requirement already satisfied: soupsieve>1.2 in /usr/local/lib/python3.12/dist-packages (from beautifulsoup4->gdown<6.0.0,>=5.1.0->boxmot) (2.7)\n",
            "Requirement already satisfied: MarkupSafe>=2.0 in /usr/local/lib/python3.12/dist-packages (from jinja2->torch>=1.8.0->ultralytics) (3.0.2)\n",
            "Requirement already satisfied: PySocks!=1.5.7,>=1.5.6 in /usr/local/lib/python3.12/dist-packages (from requests[socks]->gdown<6.0.0,>=5.1.0->boxmot) (1.7.1)\n",
            "Downloading ultralytics-8.3.183-py3-none-any.whl (1.0 MB)\n",
            "\u001b[2K   \u001b[90m━━━━━━━━━━━━━━━━━━━━━━━━━━━━━━━━━━━━━━━━\u001b[0m \u001b[32m1.0/1.0 MB\u001b[0m \u001b[31m54.7 MB/s\u001b[0m eta \u001b[36m0:00:00\u001b[0m\n",
            "\u001b[?25hDownloading boxmot-15.0.2-py3-none-any.whl (1.6 MB)\n",
            "\u001b[2K   \u001b[90m━━━━━━━━━━━━━━━━━━━━━━━━━━━━━━━━━━━━━━━━\u001b[0m \u001b[32m1.6/1.6 MB\u001b[0m \u001b[31m69.3 MB/s\u001b[0m eta \u001b[36m0:00:00\u001b[0m\n",
            "\u001b[?25hDownloading bayesian_optimization-3.1.0-py3-none-any.whl (36 kB)\n",
            "Downloading ftfy-6.3.1-py3-none-any.whl (44 kB)\n",
            "\u001b[2K   \u001b[90m━━━━━━━━━━━━━━━━━━━━━━━━━━━━━━━━━━━━━━━━\u001b[0m \u001b[32m44.8/44.8 kB\u001b[0m \u001b[31m3.6 MB/s\u001b[0m eta \u001b[36m0:00:00\u001b[0m\n",
            "\u001b[?25hDownloading lapx-0.5.11.post1-cp312-cp312-manylinux_2_5_x86_64.manylinux1_x86_64.manylinux_2_17_x86_64.manylinux2014_x86_64.whl (1.7 MB)\n",
            "\u001b[2K   \u001b[90m━━━━━━━━━━━━━━━━━━━━━━━━━━━━━━━━━━━━━━━━\u001b[0m \u001b[32m1.7/1.7 MB\u001b[0m \u001b[31m79.9 MB/s\u001b[0m eta \u001b[36m0:00:00\u001b[0m\n",
            "\u001b[?25hDownloading loguru-0.7.3-py3-none-any.whl (61 kB)\n",
            "\u001b[2K   \u001b[90m━━━━━━━━━━━━━━━━━━━━━━━━━━━━━━━━━━━━━━━━\u001b[0m \u001b[32m61.6/61.6 kB\u001b[0m \u001b[31m4.5 MB/s\u001b[0m eta \u001b[36m0:00:00\u001b[0m\n",
            "\u001b[?25hDownloading mplcursors-0.6-py3-none-any.whl (20 kB)\n",
            "Downloading PyQt5-5.15.11-cp38-abi3-manylinux_2_17_x86_64.whl (8.2 MB)\n",
            "\u001b[2K   \u001b[90m━━━━━━━━━━━━━━━━━━━━━━━━━━━━━━━━━━━━━━━━\u001b[0m \u001b[32m8.2/8.2 MB\u001b[0m \u001b[31m101.6 MB/s\u001b[0m eta \u001b[36m0:00:00\u001b[0m\n",
            "\u001b[?25hDownloading ultralytics_thop-2.0.16-py3-none-any.whl (28 kB)\n",
            "Downloading yacs-0.1.8-py3-none-any.whl (14 kB)\n",
            "Downloading colorama-0.4.6-py2.py3-none-any.whl (25 kB)\n",
            "Downloading PyQt5_Qt5-5.15.17-py3-none-manylinux2014_x86_64.whl (61.1 MB)\n",
            "\u001b[2K   \u001b[90m━━━━━━━━━━━━━━━━━━━━━━━━━━━━━━━━━━━━━━━━\u001b[0m \u001b[32m61.1/61.1 MB\u001b[0m \u001b[31m41.1 MB/s\u001b[0m eta \u001b[36m0:00:00\u001b[0m\n",
            "\u001b[?25hDownloading PyQt5_sip-12.17.0-cp312-cp312-manylinux_2_5_x86_64.manylinux1_x86_64.whl (281 kB)\n",
            "\u001b[2K   \u001b[90m━━━━━━━━━━━━━━━━━━━━━━━━━━━━━━━━━━━━━━━━\u001b[0m \u001b[32m281.9/281.9 kB\u001b[0m \u001b[31m24.0 MB/s\u001b[0m eta \u001b[36m0:00:00\u001b[0m\n",
            "\u001b[?25hBuilding wheels for collected packages: filterpy\n",
            "  Building wheel for filterpy (setup.py) ... \u001b[?25l\u001b[?25hdone\n",
            "  Created wheel for filterpy: filename=filterpy-1.4.5-py3-none-any.whl size=110460 sha256=02324197fa5696d930f31baa23bba5e873a3706235c90c6e784622a4d6f2ef64\n",
            "  Stored in directory: /root/.cache/pip/wheels/77/bf/4c/b0c3f4798a0166668752312a67118b27a3cd341e13ac0ae6ee\n",
            "Successfully built filterpy\n",
            "Installing collected packages: PyQt5-Qt5, yacs, PyQt5-sip, loguru, lapx, ftfy, colorama, pyqt5, mplcursors, filterpy, bayesian-optimization, ultralytics-thop, ultralytics, boxmot\n",
            "Successfully installed PyQt5-Qt5-5.15.17 PyQt5-sip-12.17.0 bayesian-optimization-3.1.0 boxmot-15.0.2 colorama-0.4.6 filterpy-1.4.5 ftfy-6.3.1 lapx-0.5.11.post1 loguru-0.7.3 mplcursors-0.6 pyqt5-5.15.11 ultralytics-8.3.183 ultralytics-thop-2.0.16 yacs-0.1.8\n"
          ]
        }
      ],
      "source": [
        "# Install computer vision and tracking libraries\n",
        "!pip install ultralytics boxmot opencv-python numpy scipy"
      ]
    },
    {
      "cell_type": "code",
      "execution_count": null,
      "metadata": {
        "id": "muj9X2h-E5uT",
        "outputId": "cf72e80e-1a1d-4969-8b0d-c4d5c96945d7",
        "colab": {
          "base_uri": "https://localhost:8080/"
        }
      },
      "outputs": [
        {
          "output_type": "stream",
          "name": "stdout",
          "text": [
            "  Installing build dependencies ... \u001b[?25l\u001b[?25hdone\n",
            "  Getting requirements to build wheel ... \u001b[?25l\u001b[?25hdone\n",
            "  Preparing metadata (pyproject.toml) ... \u001b[?25l\u001b[?25hdone\n",
            "  Building wheel for trackeval (pyproject.toml) ... \u001b[?25l\u001b[?25hdone\n"
          ]
        }
      ],
      "source": [
        "# Install evaluation library\n",
        "!pip install -q git+https://github.com/JonathonLuiten/TrackEval.git"
      ]
    },
    {
      "cell_type": "code",
      "execution_count": null,
      "metadata": {
        "id": "UPVCUKVdE5uT",
        "outputId": "bd55c5f5-6ea0-484b-ea06-5c9d934aa99b",
        "colab": {
          "base_uri": "https://localhost:8080/"
        }
      },
      "outputs": [
        {
          "output_type": "stream",
          "name": "stdout",
          "text": [
            "Requirement already satisfied: tqdm in /usr/local/lib/python3.12/dist-packages (4.67.1)\n",
            "Requirement already satisfied: matplotlib in /usr/local/lib/python3.12/dist-packages (3.10.0)\n",
            "Requirement already satisfied: pandas in /usr/local/lib/python3.12/dist-packages (2.2.2)\n",
            "Requirement already satisfied: pyyaml in /usr/local/lib/python3.12/dist-packages (6.0.2)\n",
            "Requirement already satisfied: contourpy>=1.0.1 in /usr/local/lib/python3.12/dist-packages (from matplotlib) (1.3.3)\n",
            "Requirement already satisfied: cycler>=0.10 in /usr/local/lib/python3.12/dist-packages (from matplotlib) (0.12.1)\n",
            "Requirement already satisfied: fonttools>=4.22.0 in /usr/local/lib/python3.12/dist-packages (from matplotlib) (4.59.1)\n",
            "Requirement already satisfied: kiwisolver>=1.3.1 in /usr/local/lib/python3.12/dist-packages (from matplotlib) (1.4.9)\n",
            "Requirement already satisfied: numpy>=1.23 in /usr/local/lib/python3.12/dist-packages (from matplotlib) (2.0.2)\n",
            "Requirement already satisfied: packaging>=20.0 in /usr/local/lib/python3.12/dist-packages (from matplotlib) (25.0)\n",
            "Requirement already satisfied: pillow>=8 in /usr/local/lib/python3.12/dist-packages (from matplotlib) (11.3.0)\n",
            "Requirement already satisfied: pyparsing>=2.3.1 in /usr/local/lib/python3.12/dist-packages (from matplotlib) (3.2.3)\n",
            "Requirement already satisfied: python-dateutil>=2.7 in /usr/local/lib/python3.12/dist-packages (from matplotlib) (2.9.0.post0)\n",
            "Requirement already satisfied: pytz>=2020.1 in /usr/local/lib/python3.12/dist-packages (from pandas) (2025.2)\n",
            "Requirement already satisfied: tzdata>=2022.7 in /usr/local/lib/python3.12/dist-packages (from pandas) (2025.2)\n",
            "Requirement already satisfied: six>=1.5 in /usr/local/lib/python3.12/dist-packages (from python-dateutil>=2.7->matplotlib) (1.17.0)\n"
          ]
        }
      ],
      "source": [
        "# Install additional utilities\n",
        "!pip install tqdm matplotlib pandas pyyaml"
      ]
    },
    {
      "cell_type": "markdown",
      "metadata": {
        "id": "7ifu3BwIE5uU"
      },
      "source": [
        "## 2. Mount Google Drive (for data access)"
      ]
    },
    {
      "cell_type": "code",
      "source": [
        "# #DONT RUN THIS - THIS CREATED A ZIP DATASET IN MY DRIVE\n",
        "\n",
        "# from google.colab import drive\n",
        "# import shutil\n",
        "# import os\n",
        "\n",
        "# # Mount Google Drive\n",
        "# drive.mount('/content/drive')\n",
        "\n",
        "# # --- Configuration ---\n",
        "# # Path to the folder you want to zip in your Google Drive\n",
        "# folder_to_zip = '/content/drive/MyDrive/SOCCER_DATA'\n",
        "\n",
        "# # Change this line to save the zip file back to your Drive\n",
        "# # This will save it in the main \"My Drive\" folder.\n",
        "# output_zip_name = '/content/drive/MyDrive/SOCCER_DATA'\n",
        "# # -------------------\n",
        "\n",
        "# # Check if the folder exists\n",
        "# if not os.path.exists(folder_to_zip):\n",
        "#   print(f\"Error: The folder '{folder_to_zip}' was not found.\")\n",
        "#   print(\"Please make sure the folder path is correct and that your Drive is mounted.\")\n",
        "# else:\n",
        "#   print(f\"Found folder: {folder_to_zip}. Starting to create zip file...\")\n",
        "\n",
        "#   # Create the zip file from the specified folder\n",
        "#   # The output file will now be saved to your Google Drive\n",
        "#   shutil.make_archive(output_zip_name, 'zip', folder_to_zip)\n",
        "\n",
        "#   print(\"\\n✅ Success!\")\n",
        "#   print(f\"The zip file '{os.path.basename(output_zip_name)}.zip' has been created successfully in your Google Drive.\")\n"
      ],
      "metadata": {
        "colab": {
          "base_uri": "https://localhost:8080/"
        },
        "id": "8Fyow3aEWYZf",
        "outputId": "53125b00-1135-44f9-e5c5-8479f7637e8f"
      },
      "execution_count": null,
      "outputs": [
        {
          "output_type": "stream",
          "name": "stdout",
          "text": [
            "Mounted at /content/drive\n",
            "Found folder: /content/drive/MyDrive/SOCCER_DATA. Starting to create zip file...\n",
            "\n",
            "✅ Success!\n",
            "The zip file 'SOCCER_DATA.zip' has been created successfully in your Google Drive.\n"
          ]
        }
      ]
    },
    {
      "cell_type": "code",
      "execution_count": null,
      "metadata": {
        "id": "VA1FlY7qE5uU",
        "outputId": "752729a5-a65e-4e06-bb6a-7ee128421a7b",
        "colab": {
          "base_uri": "https://localhost:8080/"
        }
      },
      "outputs": [
        {
          "output_type": "stream",
          "name": "stdout",
          "text": [
            "Mounted at /content/drive\n",
            "Google Drive mounted successfully!\n",
            "Soccer data found at: /content/drive/MyDrive/SOCCER_DATA\n",
            "Available datasets:\n",
            "  - deepsort_dataset_train\n",
            "  - deepsort_dataset_test\n"
          ]
        }
      ],
      "source": [
        "# # DON'T RUN THIS - Mount Google Drive for dataset access\n",
        "# try:\n",
        "#     from google.colab import drive\n",
        "#     drive.mount('/content/drive')\n",
        "#     print(\"Google Drive mounted successfully!\")\n",
        "\n",
        "#     # Check if soccer data exists\n",
        "#     import os\n",
        "#     gdrive_path = \"/content/drive/MyDrive/SOCCER_DATA\"\n",
        "#     if os.path.exists(gdrive_path):\n",
        "#         print(f\"Soccer data found at: {gdrive_path}\")\n",
        "#         print(\"Available datasets:\")\n",
        "#         for item in os.listdir(gdrive_path):\n",
        "#             print(f\"  - {item}\")\n",
        "#     else:\n",
        "#         print(f\"No soccer data found at: {gdrive_path}\")\n",
        "#         print(\"Please upload your dataset to Google Drive first.\")\n",
        "\n",
        "# except ImportError:\n",
        "#     print(\"Not running in Google Colab. Skipping drive mount.\")\n",
        "# except Exception as e:\n",
        "#     print(f\"Error mounting drive: {e}\")"
      ]
    },
    {
      "cell_type": "markdown",
      "metadata": {
        "id": "KMHLyxYQE5uU"
      },
      "source": [
        "## 3. Set Up the Project"
      ]
    },
    {
      "cell_type": "code",
      "execution_count": null,
      "metadata": {
        "id": "LmE7TrZ_E5uV",
        "outputId": "74e91bf8-6736-4598-a727-795cbec7d47e",
        "colab": {
          "base_uri": "https://localhost:8080/"
        }
      },
      "outputs": [
        {
          "output_type": "stream",
          "name": "stdout",
          "text": [
            "Cloning into '/content/yolo2'...\n",
            "remote: Enumerating objects: 121, done.\u001b[K\n",
            "remote: Counting objects: 100% (121/121), done.\u001b[K\n",
            "remote: Compressing objects: 100% (109/109), done.\u001b[K\n",
            "remote: Total 121 (delta 56), reused 45 (delta 11), pack-reused 0 (from 0)\u001b[K\n",
            "Receiving objects: 100% (121/121), 197.53 KiB | 3.66 MiB/s, done.\n",
            "Resolving deltas: 100% (56/56), done.\n",
            "/content/yolo2\n",
            "Collecting git+https://github.com/JonathonLuiten/TrackEval.git (from -r requirements.txt (line 13))\n",
            "  Cloning https://github.com/JonathonLuiten/TrackEval.git to /tmp/pip-req-build-n371zjqr\n",
            "  Running command git clone --filter=blob:none --quiet https://github.com/JonathonLuiten/TrackEval.git /tmp/pip-req-build-n371zjqr\n",
            "  Resolved https://github.com/JonathonLuiten/TrackEval.git to commit 12c8791b303e0a0b50f753af204249e622d0281a\n",
            "  Installing build dependencies ... \u001b[?25l\u001b[?25hdone\n",
            "  Getting requirements to build wheel ... \u001b[?25l\u001b[?25hdone\n",
            "  Preparing metadata (pyproject.toml) ... \u001b[?25l\u001b[?25hdone\n",
            "Requirement already satisfied: torch>=2.0.0 in /usr/local/lib/python3.12/dist-packages (from -r requirements.txt (line 2)) (2.8.0+cu126)\n",
            "Requirement already satisfied: torchvision>=0.15.0 in /usr/local/lib/python3.12/dist-packages (from -r requirements.txt (line 3)) (0.23.0+cu126)\n",
            "Requirement already satisfied: numpy>=1.24.0 in /usr/local/lib/python3.12/dist-packages (from -r requirements.txt (line 4)) (2.0.2)\n",
            "Requirement already satisfied: scipy>=1.10.0 in /usr/local/lib/python3.12/dist-packages (from -r requirements.txt (line 5)) (1.16.1)\n",
            "Requirement already satisfied: opencv-python>=4.7.0 in /usr/local/lib/python3.12/dist-packages (from -r requirements.txt (line 6)) (4.12.0.88)\n",
            "Requirement already satisfied: ultralytics>=8.0.0 in /usr/local/lib/python3.12/dist-packages (from -r requirements.txt (line 9)) (8.3.183)\n",
            "Requirement already satisfied: boxmot>=10.0.0 in /usr/local/lib/python3.12/dist-packages (from -r requirements.txt (line 10)) (15.0.2)\n",
            "Requirement already satisfied: tqdm>=4.65.0 in /usr/local/lib/python3.12/dist-packages (from -r requirements.txt (line 16)) (4.67.1)\n",
            "Requirement already satisfied: matplotlib>=3.7.0 in /usr/local/lib/python3.12/dist-packages (from -r requirements.txt (line 17)) (3.10.0)\n",
            "Requirement already satisfied: pandas>=2.0.0 in /usr/local/lib/python3.12/dist-packages (from -r requirements.txt (line 18)) (2.2.2)\n",
            "Requirement already satisfied: pyyaml>=6.0 in /usr/local/lib/python3.12/dist-packages (from -r requirements.txt (line 19)) (6.0.2)\n",
            "Requirement already satisfied: pytest>=7.3.0 in /usr/local/lib/python3.12/dist-packages (from -r requirements.txt (line 22)) (8.4.1)\n",
            "Collecting black>=23.0.0 (from -r requirements.txt (line 23))\n",
            "  Downloading black-25.1.0-cp312-cp312-manylinux_2_17_x86_64.manylinux2014_x86_64.manylinux_2_28_x86_64.whl.metadata (81 kB)\n",
            "\u001b[2K     \u001b[90m━━━━━━━━━━━━━━━━━━━━━━━━━━━━━━━━━━━━━━━━\u001b[0m \u001b[32m81.3/81.3 kB\u001b[0m \u001b[31m8.9 MB/s\u001b[0m eta \u001b[36m0:00:00\u001b[0m\n",
            "\u001b[?25hCollecting flake8>=6.0.0 (from -r requirements.txt (line 24))\n",
            "  Downloading flake8-7.3.0-py2.py3-none-any.whl.metadata (3.8 kB)\n",
            "Requirement already satisfied: filelock in /usr/local/lib/python3.12/dist-packages (from torch>=2.0.0->-r requirements.txt (line 2)) (3.19.1)\n",
            "Requirement already satisfied: typing-extensions>=4.10.0 in /usr/local/lib/python3.12/dist-packages (from torch>=2.0.0->-r requirements.txt (line 2)) (4.14.1)\n",
            "Requirement already satisfied: setuptools in /usr/local/lib/python3.12/dist-packages (from torch>=2.0.0->-r requirements.txt (line 2)) (75.2.0)\n",
            "Requirement already satisfied: sympy>=1.13.3 in /usr/local/lib/python3.12/dist-packages (from torch>=2.0.0->-r requirements.txt (line 2)) (1.13.3)\n",
            "Requirement already satisfied: networkx in /usr/local/lib/python3.12/dist-packages (from torch>=2.0.0->-r requirements.txt (line 2)) (3.5)\n",
            "Requirement already satisfied: jinja2 in /usr/local/lib/python3.12/dist-packages (from torch>=2.0.0->-r requirements.txt (line 2)) (3.1.6)\n",
            "Requirement already satisfied: fsspec in /usr/local/lib/python3.12/dist-packages (from torch>=2.0.0->-r requirements.txt (line 2)) (2025.3.0)\n",
            "Requirement already satisfied: nvidia-cuda-nvrtc-cu12==12.6.77 in /usr/local/lib/python3.12/dist-packages (from torch>=2.0.0->-r requirements.txt (line 2)) (12.6.77)\n",
            "Requirement already satisfied: nvidia-cuda-runtime-cu12==12.6.77 in /usr/local/lib/python3.12/dist-packages (from torch>=2.0.0->-r requirements.txt (line 2)) (12.6.77)\n",
            "Requirement already satisfied: nvidia-cuda-cupti-cu12==12.6.80 in /usr/local/lib/python3.12/dist-packages (from torch>=2.0.0->-r requirements.txt (line 2)) (12.6.80)\n",
            "Requirement already satisfied: nvidia-cudnn-cu12==9.10.2.21 in /usr/local/lib/python3.12/dist-packages (from torch>=2.0.0->-r requirements.txt (line 2)) (9.10.2.21)\n",
            "Requirement already satisfied: nvidia-cublas-cu12==12.6.4.1 in /usr/local/lib/python3.12/dist-packages (from torch>=2.0.0->-r requirements.txt (line 2)) (12.6.4.1)\n",
            "Requirement already satisfied: nvidia-cufft-cu12==11.3.0.4 in /usr/local/lib/python3.12/dist-packages (from torch>=2.0.0->-r requirements.txt (line 2)) (11.3.0.4)\n",
            "Requirement already satisfied: nvidia-curand-cu12==10.3.7.77 in /usr/local/lib/python3.12/dist-packages (from torch>=2.0.0->-r requirements.txt (line 2)) (10.3.7.77)\n",
            "Requirement already satisfied: nvidia-cusolver-cu12==11.7.1.2 in /usr/local/lib/python3.12/dist-packages (from torch>=2.0.0->-r requirements.txt (line 2)) (11.7.1.2)\n",
            "Requirement already satisfied: nvidia-cusparse-cu12==12.5.4.2 in /usr/local/lib/python3.12/dist-packages (from torch>=2.0.0->-r requirements.txt (line 2)) (12.5.4.2)\n",
            "Requirement already satisfied: nvidia-cusparselt-cu12==0.7.1 in /usr/local/lib/python3.12/dist-packages (from torch>=2.0.0->-r requirements.txt (line 2)) (0.7.1)\n",
            "Requirement already satisfied: nvidia-nccl-cu12==2.27.3 in /usr/local/lib/python3.12/dist-packages (from torch>=2.0.0->-r requirements.txt (line 2)) (2.27.3)\n",
            "Requirement already satisfied: nvidia-nvtx-cu12==12.6.77 in /usr/local/lib/python3.12/dist-packages (from torch>=2.0.0->-r requirements.txt (line 2)) (12.6.77)\n",
            "Requirement already satisfied: nvidia-nvjitlink-cu12==12.6.85 in /usr/local/lib/python3.12/dist-packages (from torch>=2.0.0->-r requirements.txt (line 2)) (12.6.85)\n",
            "Requirement already satisfied: nvidia-cufile-cu12==1.11.1.6 in /usr/local/lib/python3.12/dist-packages (from torch>=2.0.0->-r requirements.txt (line 2)) (1.11.1.6)\n",
            "Requirement already satisfied: triton==3.4.0 in /usr/local/lib/python3.12/dist-packages (from torch>=2.0.0->-r requirements.txt (line 2)) (3.4.0)\n",
            "Requirement already satisfied: pillow!=8.3.*,>=5.3.0 in /usr/local/lib/python3.12/dist-packages (from torchvision>=0.15.0->-r requirements.txt (line 3)) (11.3.0)\n",
            "Requirement already satisfied: requests>=2.23.0 in /usr/local/lib/python3.12/dist-packages (from ultralytics>=8.0.0->-r requirements.txt (line 9)) (2.32.4)\n",
            "Requirement already satisfied: psutil in /usr/local/lib/python3.12/dist-packages (from ultralytics>=8.0.0->-r requirements.txt (line 9)) (5.9.5)\n",
            "Requirement already satisfied: py-cpuinfo in /usr/local/lib/python3.12/dist-packages (from ultralytics>=8.0.0->-r requirements.txt (line 9)) (9.0.0)\n",
            "Requirement already satisfied: ultralytics-thop>=2.0.0 in /usr/local/lib/python3.12/dist-packages (from ultralytics>=8.0.0->-r requirements.txt (line 9)) (2.0.16)\n",
            "Requirement already satisfied: bayesian-optimization>=2.0.4 in /usr/local/lib/python3.12/dist-packages (from boxmot>=10.0.0->-r requirements.txt (line 10)) (3.1.0)\n",
            "Requirement already satisfied: click>=8.1.8 in /usr/local/lib/python3.12/dist-packages (from boxmot>=10.0.0->-r requirements.txt (line 10)) (8.2.1)\n",
            "Requirement already satisfied: filterpy<2.0.0,>=1.4.5 in /usr/local/lib/python3.12/dist-packages (from boxmot>=10.0.0->-r requirements.txt (line 10)) (1.4.5)\n",
            "Requirement already satisfied: ftfy<7.0.0,>=6.1.3 in /usr/local/lib/python3.12/dist-packages (from boxmot>=10.0.0->-r requirements.txt (line 10)) (6.3.1)\n",
            "Requirement already satisfied: gdown<6.0.0,>=5.1.0 in /usr/local/lib/python3.12/dist-packages (from boxmot>=10.0.0->-r requirements.txt (line 10)) (5.2.0)\n",
            "Requirement already satisfied: gitpython<4.0.0,>=3.1.42 in /usr/local/lib/python3.12/dist-packages (from boxmot>=10.0.0->-r requirements.txt (line 10)) (3.1.45)\n",
            "Requirement already satisfied: lapx<1.0.0,>=0.5.5 in /usr/local/lib/python3.12/dist-packages (from boxmot>=10.0.0->-r requirements.txt (line 10)) (0.5.11.post1)\n",
            "Requirement already satisfied: loguru<1.0.0,>=0.7.2 in /usr/local/lib/python3.12/dist-packages (from boxmot>=10.0.0->-r requirements.txt (line 10)) (0.7.3)\n",
            "Requirement already satisfied: mplcursors>=0.6 in /usr/local/lib/python3.12/dist-packages (from boxmot>=10.0.0->-r requirements.txt (line 10)) (0.6)\n",
            "Requirement already satisfied: pyqt5>=5.15.11 in /usr/local/lib/python3.12/dist-packages (from boxmot>=10.0.0->-r requirements.txt (line 10)) (5.15.11)\n",
            "Requirement already satisfied: regex<2025.0.0,>=2024.0.0 in /usr/local/lib/python3.12/dist-packages (from boxmot>=10.0.0->-r requirements.txt (line 10)) (2024.11.6)\n",
            "Requirement already satisfied: scikit-learn<2.0.0,>=1.3.0 in /usr/local/lib/python3.12/dist-packages (from boxmot>=10.0.0->-r requirements.txt (line 10)) (1.6.1)\n",
            "Requirement already satisfied: yacs<1.0.0,>=0.1.8 in /usr/local/lib/python3.12/dist-packages (from boxmot>=10.0.0->-r requirements.txt (line 10)) (0.1.8)\n",
            "Requirement already satisfied: contourpy>=1.0.1 in /usr/local/lib/python3.12/dist-packages (from matplotlib>=3.7.0->-r requirements.txt (line 17)) (1.3.3)\n",
            "Requirement already satisfied: cycler>=0.10 in /usr/local/lib/python3.12/dist-packages (from matplotlib>=3.7.0->-r requirements.txt (line 17)) (0.12.1)\n",
            "Requirement already satisfied: fonttools>=4.22.0 in /usr/local/lib/python3.12/dist-packages (from matplotlib>=3.7.0->-r requirements.txt (line 17)) (4.59.1)\n",
            "Requirement already satisfied: kiwisolver>=1.3.1 in /usr/local/lib/python3.12/dist-packages (from matplotlib>=3.7.0->-r requirements.txt (line 17)) (1.4.9)\n",
            "Requirement already satisfied: packaging>=20.0 in /usr/local/lib/python3.12/dist-packages (from matplotlib>=3.7.0->-r requirements.txt (line 17)) (25.0)\n",
            "Requirement already satisfied: pyparsing>=2.3.1 in /usr/local/lib/python3.12/dist-packages (from matplotlib>=3.7.0->-r requirements.txt (line 17)) (3.2.3)\n",
            "Requirement already satisfied: python-dateutil>=2.7 in /usr/local/lib/python3.12/dist-packages (from matplotlib>=3.7.0->-r requirements.txt (line 17)) (2.9.0.post0)\n",
            "Requirement already satisfied: pytz>=2020.1 in /usr/local/lib/python3.12/dist-packages (from pandas>=2.0.0->-r requirements.txt (line 18)) (2025.2)\n",
            "Requirement already satisfied: tzdata>=2022.7 in /usr/local/lib/python3.12/dist-packages (from pandas>=2.0.0->-r requirements.txt (line 18)) (2025.2)\n",
            "Requirement already satisfied: iniconfig>=1 in /usr/local/lib/python3.12/dist-packages (from pytest>=7.3.0->-r requirements.txt (line 22)) (2.1.0)\n",
            "Requirement already satisfied: pluggy<2,>=1.5 in /usr/local/lib/python3.12/dist-packages (from pytest>=7.3.0->-r requirements.txt (line 22)) (1.6.0)\n",
            "Requirement already satisfied: pygments>=2.7.2 in /usr/local/lib/python3.12/dist-packages (from pytest>=7.3.0->-r requirements.txt (line 22)) (2.19.2)\n",
            "Collecting mypy-extensions>=0.4.3 (from black>=23.0.0->-r requirements.txt (line 23))\n",
            "  Downloading mypy_extensions-1.1.0-py3-none-any.whl.metadata (1.1 kB)\n",
            "Collecting pathspec>=0.9.0 (from black>=23.0.0->-r requirements.txt (line 23))\n",
            "  Downloading pathspec-0.12.1-py3-none-any.whl.metadata (21 kB)\n",
            "Requirement already satisfied: platformdirs>=2 in /usr/local/lib/python3.12/dist-packages (from black>=23.0.0->-r requirements.txt (line 23)) (4.3.8)\n",
            "Collecting mccabe<0.8.0,>=0.7.0 (from flake8>=6.0.0->-r requirements.txt (line 24))\n",
            "  Downloading mccabe-0.7.0-py2.py3-none-any.whl.metadata (5.0 kB)\n",
            "Collecting pycodestyle<2.15.0,>=2.14.0 (from flake8>=6.0.0->-r requirements.txt (line 24))\n",
            "  Downloading pycodestyle-2.14.0-py2.py3-none-any.whl.metadata (4.5 kB)\n",
            "Collecting pyflakes<3.5.0,>=3.4.0 (from flake8>=6.0.0->-r requirements.txt (line 24))\n",
            "  Downloading pyflakes-3.4.0-py2.py3-none-any.whl.metadata (3.5 kB)\n",
            "Requirement already satisfied: colorama>=0.4.6 in /usr/local/lib/python3.12/dist-packages (from bayesian-optimization>=2.0.4->boxmot>=10.0.0->-r requirements.txt (line 10)) (0.4.6)\n",
            "Requirement already satisfied: wcwidth in /usr/local/lib/python3.12/dist-packages (from ftfy<7.0.0,>=6.1.3->boxmot>=10.0.0->-r requirements.txt (line 10)) (0.2.13)\n",
            "Requirement already satisfied: beautifulsoup4 in /usr/local/lib/python3.12/dist-packages (from gdown<6.0.0,>=5.1.0->boxmot>=10.0.0->-r requirements.txt (line 10)) (4.13.4)\n",
            "Requirement already satisfied: gitdb<5,>=4.0.1 in /usr/local/lib/python3.12/dist-packages (from gitpython<4.0.0,>=3.1.42->boxmot>=10.0.0->-r requirements.txt (line 10)) (4.0.12)\n",
            "Requirement already satisfied: PyQt5-sip<13,>=12.15 in /usr/local/lib/python3.12/dist-packages (from pyqt5>=5.15.11->boxmot>=10.0.0->-r requirements.txt (line 10)) (12.17.0)\n",
            "Requirement already satisfied: PyQt5-Qt5<5.16.0,>=5.15.2 in /usr/local/lib/python3.12/dist-packages (from pyqt5>=5.15.11->boxmot>=10.0.0->-r requirements.txt (line 10)) (5.15.17)\n",
            "Requirement already satisfied: six>=1.5 in /usr/local/lib/python3.12/dist-packages (from python-dateutil>=2.7->matplotlib>=3.7.0->-r requirements.txt (line 17)) (1.17.0)\n",
            "Requirement already satisfied: charset_normalizer<4,>=2 in /usr/local/lib/python3.12/dist-packages (from requests>=2.23.0->ultralytics>=8.0.0->-r requirements.txt (line 9)) (3.4.3)\n",
            "Requirement already satisfied: idna<4,>=2.5 in /usr/local/lib/python3.12/dist-packages (from requests>=2.23.0->ultralytics>=8.0.0->-r requirements.txt (line 9)) (3.10)\n",
            "Requirement already satisfied: urllib3<3,>=1.21.1 in /usr/local/lib/python3.12/dist-packages (from requests>=2.23.0->ultralytics>=8.0.0->-r requirements.txt (line 9)) (2.5.0)\n",
            "Requirement already satisfied: certifi>=2017.4.17 in /usr/local/lib/python3.12/dist-packages (from requests>=2.23.0->ultralytics>=8.0.0->-r requirements.txt (line 9)) (2025.8.3)\n",
            "Requirement already satisfied: joblib>=1.2.0 in /usr/local/lib/python3.12/dist-packages (from scikit-learn<2.0.0,>=1.3.0->boxmot>=10.0.0->-r requirements.txt (line 10)) (1.5.1)\n",
            "Requirement already satisfied: threadpoolctl>=3.1.0 in /usr/local/lib/python3.12/dist-packages (from scikit-learn<2.0.0,>=1.3.0->boxmot>=10.0.0->-r requirements.txt (line 10)) (3.6.0)\n",
            "Requirement already satisfied: mpmath<1.4,>=1.1.0 in /usr/local/lib/python3.12/dist-packages (from sympy>=1.13.3->torch>=2.0.0->-r requirements.txt (line 2)) (1.3.0)\n",
            "Requirement already satisfied: MarkupSafe>=2.0 in /usr/local/lib/python3.12/dist-packages (from jinja2->torch>=2.0.0->-r requirements.txt (line 2)) (3.0.2)\n",
            "Requirement already satisfied: smmap<6,>=3.0.1 in /usr/local/lib/python3.12/dist-packages (from gitdb<5,>=4.0.1->gitpython<4.0.0,>=3.1.42->boxmot>=10.0.0->-r requirements.txt (line 10)) (5.0.2)\n",
            "Requirement already satisfied: soupsieve>1.2 in /usr/local/lib/python3.12/dist-packages (from beautifulsoup4->gdown<6.0.0,>=5.1.0->boxmot>=10.0.0->-r requirements.txt (line 10)) (2.7)\n",
            "Requirement already satisfied: PySocks!=1.5.7,>=1.5.6 in /usr/local/lib/python3.12/dist-packages (from requests[socks]->gdown<6.0.0,>=5.1.0->boxmot>=10.0.0->-r requirements.txt (line 10)) (1.7.1)\n",
            "Downloading black-25.1.0-cp312-cp312-manylinux_2_17_x86_64.manylinux2014_x86_64.manylinux_2_28_x86_64.whl (1.8 MB)\n",
            "\u001b[2K   \u001b[90m━━━━━━━━━━━━━━━━━━━━━━━━━━━━━━━━━━━━━━━━\u001b[0m \u001b[32m1.8/1.8 MB\u001b[0m \u001b[31m68.1 MB/s\u001b[0m eta \u001b[36m0:00:00\u001b[0m\n",
            "\u001b[?25hDownloading flake8-7.3.0-py2.py3-none-any.whl (57 kB)\n",
            "\u001b[2K   \u001b[90m━━━━━━━━━━━━━━━━━━━━━━━━━━━━━━━━━━━━━━━━\u001b[0m \u001b[32m57.9/57.9 kB\u001b[0m \u001b[31m5.7 MB/s\u001b[0m eta \u001b[36m0:00:00\u001b[0m\n",
            "\u001b[?25hDownloading mccabe-0.7.0-py2.py3-none-any.whl (7.3 kB)\n",
            "Downloading mypy_extensions-1.1.0-py3-none-any.whl (5.0 kB)\n",
            "Downloading pathspec-0.12.1-py3-none-any.whl (31 kB)\n",
            "Downloading pycodestyle-2.14.0-py2.py3-none-any.whl (31 kB)\n",
            "Downloading pyflakes-3.4.0-py2.py3-none-any.whl (63 kB)\n",
            "\u001b[2K   \u001b[90m━━━━━━━━━━━━━━━━━━━━━━━━━━━━━━━━━━━━━━━━\u001b[0m \u001b[32m63.6/63.6 kB\u001b[0m \u001b[31m5.1 MB/s\u001b[0m eta \u001b[36m0:00:00\u001b[0m\n",
            "\u001b[?25hInstalling collected packages: pyflakes, pycodestyle, pathspec, mypy-extensions, mccabe, flake8, black\n",
            "Successfully installed black-25.1.0 flake8-7.3.0 mccabe-0.7.0 mypy-extensions-1.1.0 pathspec-0.12.1 pycodestyle-2.14.0 pyflakes-3.4.0\n"
          ]
        }
      ],
      "source": [
        "# Clone your repository if it's not already present\n",
        "import os\n",
        "\n",
        "# Define the project directory name\n",
        "project_dir = '/content/yolo2'\n",
        "\n",
        "if not os.path.exists(project_dir):\n",
        "    # Clone the correct repository\n",
        "    !git clone https://github.com/victornaguiar/yolo2.git {project_dir}\n",
        "\n",
        "# Change the current directory to your project directory\n",
        "%cd {project_dir}\n",
        "\n",
        "# Install project dependencies from your requirements.txt\n",
        "!pip install -r requirements.txt"
      ]
    },
    {
      "cell_type": "markdown",
      "metadata": {
        "id": "FOs88ASPE5uV"
      },
      "source": [
        "## 4. Verify Installation and Hardware"
      ]
    },
    {
      "cell_type": "code",
      "execution_count": null,
      "metadata": {
        "id": "9oiON_aoE5uW",
        "outputId": "1430c9c7-4c43-4d95-947c-d351c180220c",
        "colab": {
          "base_uri": "https://localhost:8080/"
        }
      },
      "outputs": [
        {
          "output_type": "stream",
          "name": "stdout",
          "text": [
            "Creating new Ultralytics Settings v0.0.6 file ✅ \n",
            "View Ultralytics Settings with 'yolo settings' or at '/root/.config/Ultralytics/settings.json'\n",
            "Update Settings with 'yolo settings key=value', i.e. 'yolo settings runs_dir=path/to/dir'. For help see https://docs.ultralytics.com/quickstart/#ultralytics-settings.\n",
            "=== Hardware Information ===\n",
            "Python version: 2.8.0+cu126\n",
            "PyTorch version: 2.8.0+cu126\n",
            "CUDA available: True\n",
            "CUDA version: 12.6\n",
            "GPU count: 1\n",
            "  GPU 0: NVIDIA A100-SXM4-40GB (39.6 GB)\n",
            "\n",
            "=== Library Versions ===\n",
            "OpenCV version: 4.12.0\n",
            "NumPy version: 2.0.2\n"
          ]
        },
        {
          "output_type": "stream",
          "name": "stderr",
          "text": [
            "Downloading https://github.com/ultralytics/assets/releases/download/v8.3.0/yolov8n.pt to 'yolov8n.pt': 100%|██████████| 6.25M/6.25M [00:00<00:00, 152MB/s]\n"
          ]
        },
        {
          "output_type": "stream",
          "name": "stdout",
          "text": [
            "YOLO model loaded successfully\n",
            "BotSORT not available - install with: pip install boxmot\n",
            "\n",
            "✓ All core libraries loaded successfully!\n"
          ]
        }
      ],
      "source": [
        "# Check hardware and installations\n",
        "import torch\n",
        "import cv2\n",
        "import numpy as np\n",
        "from ultralytics import YOLO\n",
        "\n",
        "print(\"=== Hardware Information ===\")\n",
        "print(f\"Python version: {torch.__version__}\")\n",
        "print(f\"PyTorch version: {torch.__version__}\")\n",
        "print(f\"CUDA available: {torch.cuda.is_available()}\")\n",
        "\n",
        "if torch.cuda.is_available():\n",
        "    print(f\"CUDA version: {torch.version.cuda}\")\n",
        "    print(f\"GPU count: {torch.cuda.device_count()}\")\n",
        "    for i in range(torch.cuda.device_count()):\n",
        "        gpu_name = torch.cuda.get_device_name(i)\n",
        "        gpu_memory = torch.cuda.get_device_properties(i).total_memory / (1024**3)\n",
        "        print(f\"  GPU {i}: {gpu_name} ({gpu_memory:.1f} GB)\")\n",
        "\n",
        "print(f\"\\n=== Library Versions ===\")\n",
        "print(f\"OpenCV version: {cv2.__version__}\")\n",
        "print(f\"NumPy version: {np.__version__}\")\n",
        "\n",
        "# Test YOLO\n",
        "try:\n",
        "    model = YOLO('yolov8n.pt')\n",
        "    print(f\"YOLO model loaded successfully\")\n",
        "except Exception as e:\n",
        "    print(f\"Error loading YOLO: {e}\")\n",
        "\n",
        "# Test BotSort\n",
        "try:\n",
        "    from boxmot import BotSORT\n",
        "    print(f\"BotSORT available\")\n",
        "except ImportError:\n",
        "    print(f\"BotSORT not available - install with: pip install boxmot\")\n",
        "\n",
        "print(\"\\n✓ All core libraries loaded successfully!\")"
      ]
    },
    {
      "cell_type": "markdown",
      "metadata": {
        "id": "H3VHgRrsE5uW"
      },
      "source": [
        "## 5. Download Sample Data and Models"
      ]
    },
    {
      "cell_type": "code",
      "execution_count": null,
      "metadata": {
        "id": "vJPBmnqnE5uX",
        "outputId": "c4cc9637-0c4d-48f2-9023-b5abb6963788",
        "colab": {
          "base_uri": "https://localhost:8080/"
        }
      },
      "outputs": [
        {
          "output_type": "stream",
          "name": "stdout",
          "text": [
            "Downloading YOLO models...\n",
            "Downloading yolov8n.pt...\n",
            "Downloading: 100% 6.53M/6.53M [00:00<00:00, 217MB/s]\n",
            "Downloaded: /content/yolo2/models/yolov8n.pt\n",
            "✓ Downloaded yolov8n.pt\n",
            "Downloading yolov8s.pt...\n",
            "Downloading: 100% 22.6M/22.6M [00:00<00:00, 38.5MB/s]\n",
            "Downloaded: /content/yolo2/models/yolov8s.pt\n",
            "✓ Downloaded yolov8s.pt\n",
            "Downloading yolov8m.pt...\n",
            "Downloading: 100% 52.1M/52.1M [00:01<00:00, 34.4MB/s]\n",
            "Downloaded: /content/yolo2/models/yolov8m.pt\n",
            "✓ Downloaded yolov8m.pt\n",
            "Downloading yolov8l.pt...\n",
            "Downloading: 100% 87.8M/87.8M [00:02<00:00, 32.9MB/s]\n",
            "Downloaded: /content/yolo2/models/yolov8l.pt\n",
            "✓ Downloaded yolov8l.pt\n",
            "Downloading yolov8x.pt...\n",
            "Downloading: 100% 137M/137M [00:05<00:00, 26.1MB/s]\n",
            "Downloaded: /content/yolo2/models/yolov8x.pt\n",
            "✓ Downloaded yolov8x.pt\n",
            "Downloading sample video...\n",
            "Error downloading https://github.com/mikel-brostrom/yolov8_tracking/raw/main/data/videos/people.mp4: HTTP Error 404: Not Found\n",
            "✗ Failed to download sample video\n",
            "\n",
            "Download complete!\n"
          ]
        }
      ],
      "source": [
        "# Download sample data and models\n",
        "!python scripts/download_models.py --all"
      ]
    },
    {
      "cell_type": "markdown",
      "metadata": {
        "id": "kyGW4h5lE5uY"
      },
      "source": [
        "## 7. Copy Dataset from Google Drive to Local Storage"
      ]
    },
    {
      "cell_type": "markdown",
      "metadata": {
        "id": "4njH2ic6E5uY"
      },
      "source": [
        "## 8. Test the Pipeline"
      ]
    },
    {
      "cell_type": "code",
      "execution_count": null,
      "metadata": {
        "id": "8N6jHlQGE5uY",
        "outputId": "815c4f47-e1d9-4690-fa4e-210dd6567811",
        "colab": {
          "base_uri": "https://localhost:8080/"
        }
      },
      "outputs": [
        {
          "output_type": "stream",
          "name": "stdout",
          "text": [
            "/content/yolo2\n",
            "Current working directory: /content/yolo2\n",
            "Python is now looking for modules in: /content/yolo2\n",
            "\n",
            "Installing boxmot...\n",
            "\n",
            "Downloading sample video...\n",
            "Video downloaded to 'data/sample_videos/people.mp4'\n",
            "\n",
            "Running a quick test of the tracking pipeline...\n",
            "Warning: boxmot not available. Install with: pip install boxmot\n",
            "YOLO tracker initialized with yolov8n.pt on cuda\n",
            "Processing first 100 frames of sample video...\n",
            "\n",
            "✓ Pipeline test completed successfully!\n"
          ]
        }
      ],
      "source": [
        "import os\n",
        "import sys\n",
        "\n",
        "# 1. Define the project directory\n",
        "project_dir = '/content/yolo2'\n",
        "\n",
        "# 2. Change the current working directory (good practice)\n",
        "%cd {project_dir}\n",
        "\n",
        "# 3. Add the project directory to Python's path (CRITICAL STEP)\n",
        "if project_dir not in sys.path:\n",
        "    sys.path.insert(0, project_dir)\n",
        "\n",
        "print(f\"Current working directory: {os.getcwd()}\")\n",
        "print(f\"Python is now looking for modules in: {sys.path[0]}\")\n",
        "\n",
        "# 4. Install the missing dependency\n",
        "print(\"\\nInstalling boxmot...\")\n",
        "!pip install -q boxmot\n",
        "\n",
        "# 5. Download the sample video (FIX for FileNotFoundError)\n",
        "print(\"\\nDownloading sample video...\")\n",
        "sample_video_path = 'data/sample_videos/people.mp4'\n",
        "if not os.path.exists(sample_video_path):\n",
        "    os.makedirs(os.path.dirname(sample_video_path), exist_ok=True)\n",
        "    # Download a sample video of people walking\n",
        "    !wget -q -O {sample_video_path} \"https://videos.pexels.com/video-files/853881/853881-sd_640_360_30fps.mp4\"\n",
        "    print(f\"Video downloaded to '{sample_video_path}'\")\n",
        "else:\n",
        "    print(\"Sample video already exists.\")\n",
        "\n",
        "\n",
        "# --- --\n",
        "print(\"\\nRunning a quick test of the tracking pipeline...\")\n",
        "from src.tracking import YOLOTracker\n",
        "import cv2\n",
        "\n",
        "if os.path.exists(sample_video_path):\n",
        "    # Initialize tracker and video stream\n",
        "    tracker = YOLOTracker(model_name='yolov8n.pt')\n",
        "    cap = cv2.VideoCapture(sample_video_path)\n",
        "    frame_count = 0\n",
        "\n",
        "    print(\"Processing first 100 frames of sample video...\")\n",
        "    while cap.isOpened() and frame_count < 100:\n",
        "        ret, frame = cap.read()\n",
        "        if not ret:\n",
        "            break\n",
        "\n",
        "        # The tracker expects a list of detections, but for a quick test,\n",
        "        # we can pass None and it will perform detection internally.\n",
        "        tracks = tracker.update(None, frame)\n",
        "        print(f\"Frame {frame_count}: {len(tracks)} tracks detected\")\n",
        "        frame_count += 1\n",
        "\n",
        "    cap.release()\n",
        "    print(\"\\n✓ Pipeline test completed successfully!\")\n",
        "\n",
        "else:\n",
        "    print(f\"❌ ERROR: Sample video not found at: {sample_video_path}\")\n",
        "    print(\"Please make sure you have run the setup cells correctly.\")"
      ]
    },
    {
      "cell_type": "markdown",
      "metadata": {
        "id": "yRcaPn3WHYl3"
      },
      "source": [
        "# Soccer Tracking Pipeline\n",
        "\n",
        "This notebook demonstrates the complete soccer tracking pipeline for processing MOT format datasets."
      ]
    },
    {
      "cell_type": "markdown",
      "metadata": {
        "id": "Zt94v4iGHYl3"
      },
      "source": [
        "## 1. Setup and Imports"
      ]
    },
    {
      "cell_type": "code",
      "source": [
        "%cd /content/yolo2"
      ],
      "metadata": {
        "colab": {
          "base_uri": "https://localhost:8080/"
        },
        "id": "FlOd2V9NvMDU",
        "outputId": "45e44b85-82ea-4c7d-8ae4-571ce46d84c0"
      },
      "execution_count": null,
      "outputs": [
        {
          "output_type": "stream",
          "name": "stdout",
          "text": [
            "/content/yolo2\n"
          ]
        }
      ]
    },
    {
      "cell_type": "code",
      "source": [
        "# In the second cell\n",
        "!pip install ultralytics supervision --quiet"
      ],
      "metadata": {
        "colab": {
          "base_uri": "https://localhost:8080/"
        },
        "id": "peSLP7UG0Gzy",
        "outputId": "a1116916-f073-46ac-ab61-39a51e274957"
      },
      "execution_count": null,
      "outputs": [
        {
          "output_type": "stream",
          "name": "stdout",
          "text": [
            "\u001b[?25l   \u001b[90m━━━━━━━━━━━━━━━━━━━━━━━━━━━━━━━━━━━━━━━━\u001b[0m \u001b[32m0.0/181.5 kB\u001b[0m \u001b[31m?\u001b[0m eta \u001b[36m-:--:--\u001b[0m\r\u001b[2K   \u001b[91m━━━━━━━━━━━━━━━━━━━━━━━━━━━━━━━━━━━━━━\u001b[0m\u001b[90m╺\u001b[0m\u001b[90m━\u001b[0m \u001b[32m174.1/181.5 kB\u001b[0m \u001b[31m5.0 MB/s\u001b[0m eta \u001b[36m0:00:01\u001b[0m\r\u001b[2K   \u001b[90m━━━━━━━━━━━━━━━━━━━━━━━━━━━━━━━━━━━━━━━━\u001b[0m \u001b[32m181.5/181.5 kB\u001b[0m \u001b[31m3.8 MB/s\u001b[0m eta \u001b[36m0:00:00\u001b[0m\n",
            "\u001b[?25h"
          ]
        }
      ]
    },
    {
      "cell_type": "markdown",
      "metadata": {
        "id": "7Avrl6x-HYl5"
      },
      "source": [
        "## 5. Process Sequences"
      ]
    },
    {
      "cell_type": "code",
      "source": [
        "!cat /content/yolo2/src/data/mot_data_loader.py"
      ],
      "metadata": {
        "colab": {
          "base_uri": "https://localhost:8080/"
        },
        "id": "6FtXJZnoVDKk",
        "outputId": "588c8965-c91c-4486-a9cb-e0eb7803a205"
      },
      "execution_count": null,
      "outputs": [
        {
          "output_type": "stream",
          "name": "stdout",
          "text": [
            "cat: /content/yolo2/src/data/mot_data_loader.py: No such file or directory\n"
          ]
        }
      ]
    },
    {
      "cell_type": "code",
      "source": [
        "#DOWNLOAD DATASET (23,6 GB)\n",
        "\n",
        "import os\n",
        "import sys\n",
        "import subprocess\n",
        "\n",
        "# Install the SoccerNet package (as per the repo README)\n",
        "subprocess.check_call([sys.executable, \"-m\", \"pip\", \"install\", \"-q\", \"SoccerNet\"])\n",
        "\n",
        "# Download tracking-2023 splits\n",
        "from SoccerNet.Downloader import SoccerNetDownloader\n",
        "\n",
        "local_dir = \"/content/SoccerNet\"  # where to store the data on Colab\n",
        "os.makedirs(local_dir, exist_ok=True)\n",
        "\n",
        "downloader = SoccerNetDownloader(LocalDirectory=local_dir)\n",
        "splits = [\"train\", \"test\", \"challenge\"]  # choose the splits you need\n",
        "downloader.downloadDataTask(task=\"tracking-2023\", split=splits)\n",
        "\n",
        "print(f\"Download complete. Data saved under: {local_dir}\")"
      ],
      "metadata": {
        "id": "yPnEsvJApnZG",
        "outputId": "baffd5d0-7ee7-4216-a92d-db20a8baa260",
        "colab": {
          "base_uri": "https://localhost:8080/"
        }
      },
      "execution_count": null,
      "outputs": [
        {
          "output_type": "stream",
          "name": "stderr",
          "text": [
            "Downloading /content/SoccerNet/tracking-2023/train.zip...: : 9.58GiB [35:13, 4.53MiB/s]                         \n",
            "Downloading /content/SoccerNet/tracking-2023/test.zip...: : 8.71GiB [12:03, 12.0MiB/s]                         \n",
            "Downloading /content/SoccerNet/tracking-2023/challenge2023.zip...: : 5.31GiB [07:24, 11.9MiB/s]                         "
          ]
        },
        {
          "output_type": "stream",
          "name": "stdout",
          "text": [
            "Download complete. Data saved under: /content/SoccerNet\n"
          ]
        },
        {
          "output_type": "stream",
          "name": "stderr",
          "text": [
            "\n"
          ]
        }
      ]
    },
    {
      "cell_type": "code",
      "source": [
        "#UNZIPS train.zip\n",
        "\n",
        "import os\n",
        "import zipfile\n",
        "\n",
        "zip_path = \"/content/SoccerNet/tracking-2023/train.zip\"\n",
        "extract_to = \"/content/SoccerNet/tracking-2023/train\"\n",
        "\n",
        "# Validate input zip\n",
        "if not os.path.isfile(zip_path):\n",
        "    raise FileNotFoundError(f\"Zip file not found: {zip_path}\")\n",
        "\n",
        "# Prepare output directory\n",
        "os.makedirs(extract_to, exist_ok=True)\n",
        "\n",
        "# Unzip\n",
        "try:\n",
        "    with zipfile.ZipFile(zip_path, 'r') as zf:\n",
        "        zf.extractall(extract_to)\n",
        "        num_files = sum(1 for zi in zf.infolist() if not zi.is_dir())\n",
        "        print(f\"Extracted {num_files} files to: {extract_to}\")\n",
        "except zipfile.BadZipFile:\n",
        "    raise RuntimeError(f\"The file at {zip_path} is not a valid ZIP archive.\")"
      ],
      "metadata": {
        "id": "IaN4jyAG98SR",
        "outputId": "bff1196b-cf6d-4b6d-d79e-dc77f8299fa3",
        "colab": {
          "base_uri": "https://localhost:8080/"
        }
      },
      "execution_count": null,
      "outputs": [
        {
          "output_type": "stream",
          "name": "stdout",
          "text": [
            "Extracted 42978 files to: /content/SoccerNet/tracking-2023/train\n"
          ]
        }
      ]
    },
    {
      "cell_type": "code",
      "source": [
        "# Cell 1: The Corrected Tracking Script\n",
        "\n",
        "# Step 1: Install Norfair\n",
        "!pip install norfair -q\n",
        "print(\"✅ Norfair installed successfully.\")\n",
        "\n",
        "import norfair\n",
        "from norfair import Detection, Tracker\n",
        "import numpy as np\n",
        "import pandas as pd\n",
        "import time\n",
        "import os\n",
        "from glob import glob\n",
        "\n",
        "# Step 2: Conversion function (no changes needed)\n",
        "def convert_row_to_norfair(detection_row: pd.Series) -> Detection:\n",
        "    x1, y1 = detection_row['bb_left'], detection_row['bb_top']\n",
        "    x2, y2 = x1 + detection_row['bb_width'], y1 + detection_row['bb_height']\n",
        "    points = np.array([[x1, y1], [x2, y2]])\n",
        "    scores = np.array([detection_row['confidence'], detection_row['confidence']])\n",
        "    return Detection(points=points, scores=scores)\n",
        "\n",
        "# Step 3: Initialize the Norfair tracker\n",
        "tracker = Tracker(distance_function=\"iou\", distance_threshold=0.7)\n",
        "\n",
        "# --- ⚙️ CONFIGURATION: SET YOUR SEQUENCE NAME HERE ---\n",
        "sequence_to_process = 'SNMOT-062' # ⬅️ USE ANY NAME FROM YOUR LIST\n",
        "# ----------------------------------------------------\n",
        "\n",
        "print(f\"\\n--- Processing sequence: {sequence_to_process} ---\")\n",
        "\n",
        "# --- DATA PREPARATION (USING YOUR CORRECTED FORMAT) ---\n",
        "try:\n",
        "    # Define paths based on the standard MOT structure\n",
        "    base_path = '/content/SoccerNet/tracking-2023/train/train'\n",
        "    sequence_path = os.path.join(base_path, sequence_to_process)\n",
        "    gt_path = os.path.join(sequence_path, 'gt', 'gt.txt')\n",
        "    img_folder_path = os.path.join(sequence_path, 'img1')\n",
        "    image_frame_paths = sorted(glob(os.path.join(img_folder_path, '*.jpg')))\n",
        "\n",
        "    if not image_frame_paths:\n",
        "        raise FileNotFoundError(f\"No image files found in {img_folder_path}. Check the path and file extension.\")\n",
        "\n",
        "    # THIS IS THE FIX: Using the 10-column format you provided.\n",
        "    column_names = [\n",
        "        'frame_id', 'track_id', 'bb_left', 'bb_top', 'bb_width', 'bb_height',\n",
        "        'confidence', 'unused1', 'unused2', 'unused3'\n",
        "    ]\n",
        "\n",
        "    # Load the ground truth data with the correct columns\n",
        "    detection_df = pd.read_csv(gt_path, header=None, names=column_names)\n",
        "\n",
        "    # The faulty filter has been removed. Since confidence is always 1, no filtering is needed.\n",
        "\n",
        "    print(f\"✅ Successfully loaded ground truth data from: {gt_path}\")\n",
        "    print(f\"✅ Found {len(image_frame_paths)} image frames.\")\n",
        "\n",
        "    # --- TRACKING LOGIC ---\n",
        "    num_frames = len(image_frame_paths)\n",
        "    detections_by_frame = {frame: group for frame, group in detection_df.groupby('frame_id')}\n",
        "\n",
        "    # This should now show a non-zero number of frames.\n",
        "    print(f\"  Parsed data into {len(detections_by_frame)} frames with active detections.\")\n",
        "\n",
        "    start_time = time.time()\n",
        "    tracker_results_list = []\n",
        "\n",
        "    for frame_num in range(1, num_frames + 1):\n",
        "        if frame_num % 250 == 0:\n",
        "            print(f\"  Processing frame {frame_num}/{num_frames}...\")\n",
        "\n",
        "        frame_detections_df = detections_by_frame.get(frame_num)\n",
        "\n",
        "        norfair_detections = []\n",
        "        if frame_detections_df is not None and not frame_detections_df.empty:\n",
        "            norfair_detections = [convert_row_to_norfair(row) for _, row in frame_detections_df.iterrows()]\n",
        "\n",
        "        tracked_objects = tracker.update(detections=norfair_detections)\n",
        "\n",
        "        for obj in tracked_objects:\n",
        "            x1, y1, x2, y2 = obj.estimate.flatten()\n",
        "            tracker_results_list.append([frame_num, obj.id, x1, y1, x2 - x1, y2 - y1])\n",
        "\n",
        "    end_time = time.time()\n",
        "    elapsed = end_time - start_time\n",
        "    fps = num_frames / elapsed if elapsed > 0 else 0\n",
        "\n",
        "    tracker_results_df = pd.DataFrame(tracker_results_list, columns=['frame_id', 'track_id', 'bb_left', 'bb_top', 'bb_width', 'bb_height'])\n",
        "\n",
        "    print(f\"\\n--- ✅ Tracking Complete ---\")\n",
        "    print(f\"  Processed {num_frames} frames in {elapsed:.2f}s ({fps:.1f} FPS)\")\n",
        "    print(\"\\nResults are now stored. You can run the video creation cell.\")\n",
        "\n",
        "except FileNotFoundError as e:\n",
        "    print(f\"❌ ERROR: A file or directory was not found.\")\n",
        "    print(f\"  Details: {e}\")\n",
        "except Exception as e:\n",
        "    print(f\"❌ An error occurred: {e}\")"
      ],
      "metadata": {
        "colab": {
          "base_uri": "https://localhost:8080/"
        },
        "id": "D5GWH4Cd-pqw",
        "outputId": "ed2385e9-1dcb-424f-f9da-d822fa60d91f"
      },
      "execution_count": null,
      "outputs": [
        {
          "output_type": "stream",
          "name": "stdout",
          "text": [
            "✅ Norfair installed successfully.\n",
            "\n",
            "--- Processing sequence: SNMOT-062 ---\n",
            "✅ Successfully loaded ground truth data from: /content/SoccerNet/tracking-2023/train/train/SNMOT-062/gt/gt.txt\n",
            "✅ Found 750 image frames.\n",
            "  Parsed data into 750 frames with active detections.\n",
            "  Processing frame 250/750...\n",
            "  Processing frame 500/750...\n",
            "  Processing frame 750/750...\n",
            "\n",
            "--- ✅ Tracking Complete ---\n",
            "  Processed 750 frames in 2.61s (287.2 FPS)\n",
            "\n",
            "Results are now stored. You can run the video creation cell.\n"
          ]
        }
      ]
    },
    {
      "cell_type": "code",
      "source": [
        "# Cell 2: Create Video from Corrected Tracking Results\n",
        "\n",
        "import cv2\n",
        "import pandas as pd\n",
        "\n",
        "print(\"--- Starting video creation ---\")\n",
        "\n",
        "if 'tracker_results_df' not in locals() or 'detection_df' not in locals():\n",
        "    print(\"ERROR: Tracking results not found. Please run the tracking cell above first.\")\n",
        "else:\n",
        "    # --- Video Creation Logic ---\n",
        "\n",
        "    tracker_boxes_by_frame = {f: g.to_dict('records') for f, g in tracker_results_df.groupby('frame_id')}\n",
        "    gt_boxes_by_frame = {f: g.to_dict('records') for f, g in detection_df.groupby('frame_id')}\n",
        "\n",
        "    OUTPUT_VIDEO_PATH = f'/content/tracking_video_{sequence_to_process}_FINAL.mp4'\n",
        "    first_frame = cv2.imread(image_frame_paths[0])\n",
        "    height, width, _ = first_frame.shape\n",
        "    fourcc = cv2.VideoWriter_fourcc(*'mp4v')\n",
        "    video_writer = cv2.VideoWriter(OUTPUT_VIDEO_PATH, fourcc, 30.0, (width, height))\n",
        "\n",
        "    num_frames = len(image_frame_paths)\n",
        "    for i in range(num_frames):\n",
        "        frame_num = i + 1\n",
        "        frame = cv2.imread(image_frame_paths[i])\n",
        "\n",
        "        # Draw Ground Truth (GREEN)\n",
        "        if frame_num in gt_boxes_by_frame:\n",
        "            for item in gt_boxes_by_frame[frame_num]:\n",
        "                x, y = int(item['bb_left']), int(item['bb_top'])\n",
        "                w, h = int(item['bb_width']), int(item['bb_height'])\n",
        "                cv2.rectangle(frame, (x, y), (x + w, y + h), (0, 255, 0), 2)\n",
        "                cv2.putText(frame, str(item['track_id']), (x, y - 5), cv2.FONT_HERSHEY_SIMPLEX, 0.7, (0, 255, 0), 2)\n",
        "\n",
        "        # Draw Tracker Output (RED)\n",
        "        if frame_num in tracker_boxes_by_frame:\n",
        "            for item in tracker_boxes_by_frame[frame_num]:\n",
        "                x, y = int(item['bb_left']), int(item['bb_top'])\n",
        "                w, h = int(item['bb_width']), int(item['bb_height'])\n",
        "                cv2.rectangle(frame, (x, y), (x + w, y + h), (0, 0, 255), 2)\n",
        "                cv2.putText(frame, str(item['track_id']), (x, y - 5), cv2.FONT_HERSHEY_SIMPLEX, 0.7, (0, 0, 255), 2)\n",
        "\n",
        "        video_writer.write(frame)\n",
        "\n",
        "    video_writer.release()\n",
        "    print(f\"--- Video Complete ---\")\n",
        "    print(f\"Video saved to: {OUTPUT_VIDEO_PATH}\")"
      ],
      "metadata": {
        "id": "Wj4vwNi-CUOJ",
        "outputId": "16735543-31a0-40a8-c23b-53574e1dd63e",
        "colab": {
          "base_uri": "https://localhost:8080/"
        }
      },
      "execution_count": null,
      "outputs": [
        {
          "output_type": "stream",
          "name": "stdout",
          "text": [
            "--- Starting video creation ---\n",
            "--- Video Complete ---\n",
            "Video saved to: /content/tracking_video_SNMOT-062_FINAL.mp4\n"
          ]
        }
      ]
    },
    {
      "cell_type": "code",
      "source": [
        "# # Cell X: Create seqmap for TrackEval\n",
        "\n",
        "# import os\n",
        "\n",
        "# # Config — adjust if needed\n",
        "# gt_base_dir = '/content/MOT_GT_data'\n",
        "# split_name = 'train'                 # e.g., 'train', 'val', 'test'\n",
        "# sequences = [sequence_to_process]    # add more names if you want to eval multiple sequences\n",
        "\n",
        "# # Create seqmaps folder and file path\n",
        "# seqmap_dir = os.path.join(gt_base_dir, 'seqmaps')\n",
        "# os.makedirs(seqmap_dir, exist_ok=True)\n",
        "# seqmap_file = os.path.join(seqmap_dir, f'{split_name}.txt')\n",
        "\n",
        "# # Write sequence names (overwrite to keep it clean)\n",
        "# with open(seqmap_file, 'w') as f:\n",
        "#     for seq in sequences:\n",
        "#         f.write(f\"{seq}\\n\")\n",
        "\n",
        "# print(\"✅ seqmap created:\")\n",
        "# print(\"  Path:\", seqmap_file)\n",
        "# print(\"  Contents:\")\n",
        "# with open(seqmap_file, 'r') as f:\n",
        "#     print(\"  \" + \"  \".join(line.strip() for line in f.readlines()))\n"
      ],
      "metadata": {
        "id": "yh5lJtqcrl5F"
      },
      "execution_count": null,
      "outputs": []
    },
    {
      "cell_type": "code",
      "source": [
        "# # Cell 1: Install trackeval\n",
        "# !pip install trackeval -q\n",
        "# print(\"trackeval installed successfully.\")"
      ],
      "metadata": {
        "colab": {
          "base_uri": "https://localhost:8080/"
        },
        "id": "Da4XkqRfuH6f",
        "outputId": "e7c43a6b-13c3-4915-9784-557198ec7dc1"
      },
      "execution_count": null,
      "outputs": [
        {
          "output_type": "stream",
          "name": "stdout",
          "text": [
            "✅ trackeval installed successfully.\n"
          ]
        }
      ]
    },
    {
      "cell_type": "code",
      "source": [
        "# import os\n",
        "# import shutil\n",
        "# import trackeval\n",
        "# import pandas as pd\n",
        "\n",
        "# print(\"--- Starting trackeval evaluation with a fully compliant MOT structure ---\")\n",
        "\n",
        "# if 'detection_df' in locals() and 'tracker_results_df' in locals():\n",
        "\n",
        "#     # --- 1. Define All Paths and Names ---\n",
        "#     sequence_name = sequence_to_process\n",
        "#     tracker_name = 'MyNorfairTracker'\n",
        "#     split_name = 'train' # The data split we are using\n",
        "\n",
        "#     # Base directories that will be passed to trackeval\n",
        "#     gt_base_dir = '/content/MOT_GT_data/'\n",
        "#     tracker_base_dir = '/content/MOT_tracker_data/'\n",
        "\n",
        "#     # Clean up any previous attempts to ensure a fresh start\n",
        "#     if os.path.exists(gt_base_dir):\n",
        "#         shutil.rmtree(gt_base_dir)\n",
        "#     if os.path.exists(tracker_base_dir):\n",
        "#         shutil.rmtree(tracker_base_dir)\n",
        "#     print(\"✅ Cleaned up previous directories.\")\n",
        "\n",
        "#     # --- 2. Create the 100% Compliant Directory Structure ---\n",
        "\n",
        "#     # GT Structure: {gt_base_dir}/{split_name}/{sequence_name}/gt/gt.txt\n",
        "#     gt_sequence_dir = os.path.join(gt_base_dir, split_name, sequence_name)\n",
        "#     gt_data_dir = os.path.join(gt_sequence_dir, 'gt')\n",
        "#     os.makedirs(gt_data_dir, exist_ok=True)\n",
        "\n",
        "#     # Tracker Structure: {tracker_base_dir}/{tracker_name}/{sequence_name}/data/\n",
        "#     # Note: The tracker structure is slightly different in some versions. We will create the simplest one.\n",
        "#     tracker_data_dir = os.path.join(tracker_base_dir, tracker_name, 'data')\n",
        "#     os.makedirs(tracker_data_dir, exist_ok=True)\n",
        "\n",
        "#     print(\"✅ Created compliant directory structure.\")\n",
        "\n",
        "#     # --- 3. Format and Save Data Files into the New Structure ---\n",
        "\n",
        "#     gt_file_path = os.path.join(gt_data_dir, 'gt.txt')\n",
        "#     tracker_file_path = os.path.join(tracker_data_dir, f'{sequence_name}.txt')\n",
        "\n",
        "#     gt_id_col = 'track_id' if 'track_id' in detection_df.columns else 'object_id'\n",
        "\n",
        "#     gt_df_to_save = detection_df.copy()\n",
        "#     gt_df_to_save['conf'] = 1\n",
        "#     gt_df_to_save['unused1'], gt_df_to_save['unused2'], gt_df_to_save['unused3'] = -1, -1, -1\n",
        "#     if 'bb_left' not in gt_df_to_save.columns:\n",
        "#          gt_df_to_save.rename(columns={'x': 'bb_left', 'y': 'bb_top', 'w': 'bb_width', 'h': 'bb_height'}, inplace=True)\n",
        "#     gt_df_to_save.rename(columns={gt_id_col: 'id'}, inplace=True)\n",
        "#     gt_df_to_save[['frame_id', 'id', 'bb_left', 'bb_top', 'bb_width', 'bb_height', 'conf', 'unused1', 'unused2', 'unused3']].to_csv(\n",
        "#         gt_file_path, header=False, index=False\n",
        "#     )\n",
        "\n",
        "#     tracker_df_to_save = tracker_results_df.copy()\n",
        "#     tracker_df_to_save['conf'] = tracker_df_to_save.get('confidence', 1.0) # Use real confidence if available\n",
        "#     tracker_df_to_save['unused1'], tracker_df_to_save['unused2'], tracker_df_to_save['unused3'] = -1, -1, -1\n",
        "#     tracker_df_to_save.rename(columns={'track_id': 'id'}, inplace=True)\n",
        "#     tracker_df_to_save[['frame_id', 'id', 'bb_left', 'bb_top', 'bb_width', 'bb_height', 'conf', 'unused1', 'unused2', 'unused3']].to_csv(\n",
        "#         tracker_file_path, header=False, index=False\n",
        "#     )\n",
        "\n",
        "#     print(f\"✅ Data files formatted and saved.\")\n",
        "\n",
        "#     # --- 4. Copy the seqinfo.ini file ---\n",
        "#     original_ini_path = os.path.join('/content/train', sequence_name, 'seqinfo.ini')\n",
        "#     target_ini_path = os.path.join(gt_sequence_dir, 'seqinfo.ini')\n",
        "\n",
        "#     if os.path.exists(original_ini_path):\n",
        "#         shutil.copy(original_ini_path, target_ini_path)\n",
        "#         print(f\"✅ Successfully copied seqinfo.ini to: {target_ini_path}\")\n",
        "#     else:\n",
        "#         print(f\"❌ ERROR: Could not find original seqinfo.ini at {original_ini_path}\")\n",
        "\n",
        "#     # --- 5. Set up a Minimal and Correct Evaluator ---\n",
        "#     eval_config = trackeval.Evaluator.get_default_eval_config()\n",
        "#     dataset_config = trackeval.datasets.MotChallenge2DBox.get_default_dataset_config()\n",
        "\n",
        "#     # Provide only the base directories and let the library discover everything else.\n",
        "#     dataset_config['GT_FOLDER'] = gt_base_dir\n",
        "#     dataset_config['TRACKERS_FOLDER'] = tracker_base_dir\n",
        "#     dataset_config['SPLIT_TO_EVAL'] = split_name\n",
        "#     dataset_config['TRACKERS_TO_EVAL'] = [tracker_name]\n",
        "#     dataset_config['BENCHMARK'] = ''\n",
        "\n",
        "#     # DO NOT set SEQ_INFO or GT_LOC_FORMAT. Let the library's discovery mechanism work.\n",
        "\n",
        "#     evaluator = trackeval.Evaluator(eval_config)\n",
        "#     dataset = [trackeval.datasets.MotChallenge2DBox(dataset_config)]\n",
        "#     metrics = [trackeval.metrics.HOTA(), trackeval.metrics.CLEAR(), trackeval.metrics.Identity()]\n",
        "\n",
        "#     print(\"\\n--- Running trackeval... ---\")\n",
        "#     output_res, output_msg = evaluator.evaluate(dataset, metrics)\n",
        "\n",
        "#     # --- 6. Display Results ---\n",
        "#     print(\"\\n--- ✅ trackeval Evaluation Complete ---\")\n",
        "\n",
        "#     hota_metrics = output_res['MotChallenge2DBox'][tracker_name][sequence_name]['HOTA']\n",
        "\n",
        "#     print(\"\\n--- HOTA Metrics Summary ---\")\n",
        "#     print(f\"HOTA (Overall):            {hota_metrics['HOTA(0)'] * 100:.2f}%\")\n",
        "#     print(\"---------------------------------\")\n",
        "#     print(f\"Detection Accuracy (DetA): {hota_metrics['DetA(0)'] * 100:.2f}%\")\n",
        "#     print(f\"Association Accuracy (AssA): {hota_metrics['AssA(0)'] * 100:.2f}%\")\n",
        "#     print(\"---------------------------------\")\n",
        "#     print(f\"Detection Recall (DetRe):  {hota_metrics['DetRe(0)'] * 100:.2f}%\")\n",
        "#     print(f\"Detection Precision (DetPr): {hota_metrics['DetPr(0)'] * 100:.2f}%\")\n",
        "#     print(f\"Association Recall (AssRe):  {hota_metrics['AssRe(0)'] * 100:.2f}%\")\n",
        "#     print(f\"Association Precision (AssPr): {hota_metrics['AssPr(0)'] * 100:.2f}%\")\n",
        "#     print(\"---------------------------------\")\n",
        "\n",
        "# else:\n",
        "#     print(\"--- ❌ ERROR: Could not find 'detection_df' or 'tracker_results_df' ---\")\n",
        "#     print(\"--- Please ensure you have successfully run the main tracking cell first! ---\")"
      ],
      "metadata": {
        "id": "QmK-eyyqRRTn",
        "outputId": "1bcf1f0e-587d-4028-b4f4-a9a3e20750c1",
        "colab": {
          "base_uri": "https://localhost:8080/",
          "height": 1000
        }
      },
      "execution_count": 29,
      "outputs": [
        {
          "output_type": "stream",
          "name": "stdout",
          "text": [
            "--- Starting trackeval evaluation with a fully compliant MOT structure ---\n",
            "✅ Cleaned up previous directories.\n",
            "✅ Created compliant directory structure.\n",
            "✅ Data files formatted and saved.\n",
            "❌ ERROR: Could not find original seqinfo.ini at /content/train/SNMOT-063/seqinfo.ini\n",
            "\n",
            "Eval Config:\n",
            "USE_PARALLEL         : False                         \n",
            "NUM_PARALLEL_CORES   : 8                             \n",
            "BREAK_ON_ERROR       : True                          \n",
            "RETURN_ON_ERROR      : False                         \n",
            "LOG_ON_ERROR         : /usr/local/lib/python3.12/dist-packages/error_log.txt\n",
            "PRINT_RESULTS        : True                          \n",
            "PRINT_ONLY_COMBINED  : False                         \n",
            "PRINT_CONFIG         : True                          \n",
            "TIME_PROGRESS        : True                          \n",
            "DISPLAY_LESS_PROGRESS : True                          \n",
            "OUTPUT_SUMMARY       : True                          \n",
            "OUTPUT_EMPTY_CLASSES : True                          \n",
            "OUTPUT_DETAILED      : True                          \n",
            "PLOT_CURVES          : True                          \n",
            "\n",
            "MotChallenge2DBox Config:\n",
            "GT_FOLDER            : /content/MOT_GT_data/         \n",
            "TRACKERS_FOLDER      : /content/MOT_tracker_data/    \n",
            "OUTPUT_FOLDER        : None                          \n",
            "TRACKERS_TO_EVAL     : ['MyNorfairTracker']          \n",
            "CLASSES_TO_EVAL      : ['pedestrian']                \n",
            "BENCHMARK            :                               \n",
            "SPLIT_TO_EVAL        : train                         \n",
            "INPUT_AS_ZIP         : False                         \n",
            "PRINT_CONFIG         : True                          \n",
            "DO_PREPROC           : True                          \n",
            "TRACKER_SUB_FOLDER   : data                          \n",
            "OUTPUT_SUB_FOLDER    :                               \n",
            "TRACKER_DISPLAY_NAMES : None                          \n",
            "SEQMAP_FOLDER        : None                          \n",
            "SEQMAP_FILE          : None                          \n",
            "SEQ_INFO             : None                          \n",
            "GT_LOC_FORMAT        : {gt_folder}/{seq}/gt/gt.txt   \n",
            "SKIP_SPLIT_FOL       : False                         \n",
            "no seqmap found: /content/MOT_GT_data/seqmaps/-train.txt\n"
          ]
        },
        {
          "output_type": "error",
          "ename": "TrackEvalException",
          "evalue": "no seqmap found: -train.txt",
          "traceback": [
            "\u001b[0;31m---------------------------------------------------------------------------\u001b[0m",
            "\u001b[0;31mTrackEvalException\u001b[0m                        Traceback (most recent call last)",
            "\u001b[0;32m/tmp/ipython-input-463377269.py\u001b[0m in \u001b[0;36m<cell line: 0>\u001b[0;34m()\u001b[0m\n\u001b[1;32m     89\u001b[0m \u001b[0;34m\u001b[0m\u001b[0m\n\u001b[1;32m     90\u001b[0m     \u001b[0mevaluator\u001b[0m \u001b[0;34m=\u001b[0m \u001b[0mtrackeval\u001b[0m\u001b[0;34m.\u001b[0m\u001b[0mEvaluator\u001b[0m\u001b[0;34m(\u001b[0m\u001b[0meval_config\u001b[0m\u001b[0;34m)\u001b[0m\u001b[0;34m\u001b[0m\u001b[0;34m\u001b[0m\u001b[0m\n\u001b[0;32m---> 91\u001b[0;31m     \u001b[0mdataset\u001b[0m \u001b[0;34m=\u001b[0m \u001b[0;34m[\u001b[0m\u001b[0mtrackeval\u001b[0m\u001b[0;34m.\u001b[0m\u001b[0mdatasets\u001b[0m\u001b[0;34m.\u001b[0m\u001b[0mMotChallenge2DBox\u001b[0m\u001b[0;34m(\u001b[0m\u001b[0mdataset_config\u001b[0m\u001b[0;34m)\u001b[0m\u001b[0;34m]\u001b[0m\u001b[0;34m\u001b[0m\u001b[0;34m\u001b[0m\u001b[0m\n\u001b[0m\u001b[1;32m     92\u001b[0m     \u001b[0mmetrics\u001b[0m \u001b[0;34m=\u001b[0m \u001b[0;34m[\u001b[0m\u001b[0mtrackeval\u001b[0m\u001b[0;34m.\u001b[0m\u001b[0mmetrics\u001b[0m\u001b[0;34m.\u001b[0m\u001b[0mHOTA\u001b[0m\u001b[0;34m(\u001b[0m\u001b[0;34m)\u001b[0m\u001b[0;34m,\u001b[0m \u001b[0mtrackeval\u001b[0m\u001b[0;34m.\u001b[0m\u001b[0mmetrics\u001b[0m\u001b[0;34m.\u001b[0m\u001b[0mCLEAR\u001b[0m\u001b[0;34m(\u001b[0m\u001b[0;34m)\u001b[0m\u001b[0;34m,\u001b[0m \u001b[0mtrackeval\u001b[0m\u001b[0;34m.\u001b[0m\u001b[0mmetrics\u001b[0m\u001b[0;34m.\u001b[0m\u001b[0mIdentity\u001b[0m\u001b[0;34m(\u001b[0m\u001b[0;34m)\u001b[0m\u001b[0;34m]\u001b[0m\u001b[0;34m\u001b[0m\u001b[0;34m\u001b[0m\u001b[0m\n\u001b[1;32m     93\u001b[0m \u001b[0;34m\u001b[0m\u001b[0m\n",
            "\u001b[0;32m/usr/local/lib/python3.12/dist-packages/trackeval/datasets/mot_challenge_2d_box.py\u001b[0m in \u001b[0;36m__init__\u001b[0;34m(self, config)\u001b[0m\n\u001b[1;32m     80\u001b[0m \u001b[0;34m\u001b[0m\u001b[0m\n\u001b[1;32m     81\u001b[0m         \u001b[0;31m# Get sequences to eval and check gt files exist\u001b[0m\u001b[0;34m\u001b[0m\u001b[0;34m\u001b[0m\u001b[0m\n\u001b[0;32m---> 82\u001b[0;31m         \u001b[0mself\u001b[0m\u001b[0;34m.\u001b[0m\u001b[0mseq_list\u001b[0m\u001b[0;34m,\u001b[0m \u001b[0mself\u001b[0m\u001b[0;34m.\u001b[0m\u001b[0mseq_lengths\u001b[0m \u001b[0;34m=\u001b[0m \u001b[0mself\u001b[0m\u001b[0;34m.\u001b[0m\u001b[0m_get_seq_info\u001b[0m\u001b[0;34m(\u001b[0m\u001b[0;34m)\u001b[0m\u001b[0;34m\u001b[0m\u001b[0;34m\u001b[0m\u001b[0m\n\u001b[0m\u001b[1;32m     83\u001b[0m         \u001b[0;32mif\u001b[0m \u001b[0mlen\u001b[0m\u001b[0;34m(\u001b[0m\u001b[0mself\u001b[0m\u001b[0;34m.\u001b[0m\u001b[0mseq_list\u001b[0m\u001b[0;34m)\u001b[0m \u001b[0;34m<\u001b[0m \u001b[0;36m1\u001b[0m\u001b[0;34m:\u001b[0m\u001b[0;34m\u001b[0m\u001b[0;34m\u001b[0m\u001b[0m\n\u001b[1;32m     84\u001b[0m             \u001b[0;32mraise\u001b[0m \u001b[0mTrackEvalException\u001b[0m\u001b[0;34m(\u001b[0m\u001b[0;34m'No sequences are selected to be evaluated.'\u001b[0m\u001b[0;34m)\u001b[0m\u001b[0;34m\u001b[0m\u001b[0;34m\u001b[0m\u001b[0m\n",
            "\u001b[0;32m/usr/local/lib/python3.12/dist-packages/trackeval/datasets/mot_challenge_2d_box.py\u001b[0m in \u001b[0;36m_get_seq_info\u001b[0;34m(self)\u001b[0m\n\u001b[1;32m    156\u001b[0m             \u001b[0;32mif\u001b[0m \u001b[0;32mnot\u001b[0m \u001b[0mos\u001b[0m\u001b[0;34m.\u001b[0m\u001b[0mpath\u001b[0m\u001b[0;34m.\u001b[0m\u001b[0misfile\u001b[0m\u001b[0;34m(\u001b[0m\u001b[0mseqmap_file\u001b[0m\u001b[0;34m)\u001b[0m\u001b[0;34m:\u001b[0m\u001b[0;34m\u001b[0m\u001b[0;34m\u001b[0m\u001b[0m\n\u001b[1;32m    157\u001b[0m                 \u001b[0mprint\u001b[0m\u001b[0;34m(\u001b[0m\u001b[0;34m'no seqmap found: '\u001b[0m \u001b[0;34m+\u001b[0m \u001b[0mseqmap_file\u001b[0m\u001b[0;34m)\u001b[0m\u001b[0;34m\u001b[0m\u001b[0;34m\u001b[0m\u001b[0m\n\u001b[0;32m--> 158\u001b[0;31m                 \u001b[0;32mraise\u001b[0m \u001b[0mTrackEvalException\u001b[0m\u001b[0;34m(\u001b[0m\u001b[0;34m'no seqmap found: '\u001b[0m \u001b[0;34m+\u001b[0m \u001b[0mos\u001b[0m\u001b[0;34m.\u001b[0m\u001b[0mpath\u001b[0m\u001b[0;34m.\u001b[0m\u001b[0mbasename\u001b[0m\u001b[0;34m(\u001b[0m\u001b[0mseqmap_file\u001b[0m\u001b[0;34m)\u001b[0m\u001b[0;34m)\u001b[0m\u001b[0;34m\u001b[0m\u001b[0;34m\u001b[0m\u001b[0m\n\u001b[0m\u001b[1;32m    159\u001b[0m             \u001b[0;32mwith\u001b[0m \u001b[0mopen\u001b[0m\u001b[0;34m(\u001b[0m\u001b[0mseqmap_file\u001b[0m\u001b[0;34m)\u001b[0m \u001b[0;32mas\u001b[0m \u001b[0mfp\u001b[0m\u001b[0;34m:\u001b[0m\u001b[0;34m\u001b[0m\u001b[0;34m\u001b[0m\u001b[0m\n\u001b[1;32m    160\u001b[0m                 \u001b[0mreader\u001b[0m \u001b[0;34m=\u001b[0m \u001b[0mcsv\u001b[0m\u001b[0;34m.\u001b[0m\u001b[0mreader\u001b[0m\u001b[0;34m(\u001b[0m\u001b[0mfp\u001b[0m\u001b[0;34m)\u001b[0m\u001b[0;34m\u001b[0m\u001b[0;34m\u001b[0m\u001b[0m\n",
            "\u001b[0;31mTrackEvalException\u001b[0m: no seqmap found: -train.txt"
          ]
        }
      ]
    },
    {
      "cell_type": "markdown",
      "metadata": {
        "id": "QtvUk-9YHYl8"
      },
      "source": [
        "## 8. Results Analysis"
      ]
    }
  ],
  "metadata": {
    "kernelspec": {
      "display_name": "Python 3",
      "name": "python3"
    },
    "language_info": {
      "codemirror_mode": {
        "name": "ipython",
        "version": 3
      },
      "file_extension": ".py",
      "mimetype": "text/x-python",
      "name": "python",
      "nbconvert_exporter": "python",
      "pygments_lexer": "ipython3",
      "version": "3.8.0"
    },
    "colab": {
      "provenance": [],
      "machine_shape": "hm",
      "gpuType": "A100"
    },
    "accelerator": "GPU"
  },
  "nbformat": 4,
  "nbformat_minor": 0
}